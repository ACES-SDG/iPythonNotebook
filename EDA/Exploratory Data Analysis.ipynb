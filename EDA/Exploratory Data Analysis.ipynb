{
 "cells": [
  {
   "cell_type": "markdown",
   "id": "bc1f64d5",
   "metadata": {},
   "source": [
    "# Fraud Detection Analytics"
   ]
  },
  {
   "cell_type": "markdown",
   "id": "2f346fbb",
   "metadata": {},
   "source": [
    "## Exploratory Data analysis"
   ]
  },
  {
   "cell_type": "code",
   "execution_count": 1,
   "id": "96bfa1a7",
   "metadata": {},
   "outputs": [],
   "source": [
    "import pandas as pd ,numpy as np, matplotlib.pyplot as plt, seaborn as sns "
   ]
  },
  {
   "cell_type": "markdown",
   "id": "86b6f52b",
   "metadata": {},
   "source": [
    "##### import file"
   ]
  },
  {
   "cell_type": "code",
   "execution_count": 2,
   "id": "a1be17a1",
   "metadata": {},
   "outputs": [],
   "source": [
    "df=pd.read_csv('D:/Aces__Project/Insurance Dataset.csv')"
   ]
  },
  {
   "attachments": {},
   "cell_type": "markdown",
   "id": "8fb9b895",
   "metadata": {},
   "source": [
    "Sample Dataset"
   ]
  },
  {
   "cell_type": "code",
   "execution_count": 28,
   "id": "6b428309",
   "metadata": {},
   "outputs": [],
   "source": [
    "head = df.head(5)"
   ]
  },
  {
   "cell_type": "code",
   "execution_count": 30,
   "id": "39a36cbc",
   "metadata": {},
   "outputs": [
    {
     "data": {
      "text/plain": [
       "(array(['Western NY', 'Allegany', 37.0, '30 to 49', 'F', 'White',\n",
       "        'Not Span/Hispanic', '4', 'Elective', 'Home or Self Care', 122, 0,\n",
       "        'Other pneumonia', 1, 1.0, 'Medical', 0, 'N', 'Y', 5511.95,\n",
       "        5582.49, 1.012797612, 1, 1], dtype=object),\n",
       " array(['Western NY', 'Allegany', 37.0, '70 or Older', 'F', 'White',\n",
       "        'Not Span/Hispanic', '4', 'Urgent', 'Short-term Hospital', 197, 0,\n",
       "        'Cellulitis & other skin infections', 3, 2.0, 'Medical', 0, 'N',\n",
       "        'Y', 4783.2, 5162.82, 1.079364503, 1, 1], dtype=object),\n",
       " array(['Western NY', 'Allegany', 37.0, '30 to 49', 'F', 'White',\n",
       "        'Not Span/Hispanic', '3', 'Urgent', 'Home or Self Care', 122, 0,\n",
       "        'Other pneumonia', 1, 1.0, 'Medical', 0, 'N', 'Y', 3829.15,\n",
       "        4056.52, 1.059378662, 1, 1], dtype=object),\n",
       " array(['Western NY', 'Allegany', 37.0, '0 to 17', 'F', 'White',\n",
       "        'Not Span/Hispanic', '1', 'Urgent', 'Home or Self Care', 122, 0,\n",
       "        'Other pneumonia', 1, 1.0, 'Medical', 0, 'N', 'Y', 1108.2, 1644.75,\n",
       "        1.484167069, 0, 1], dtype=object),\n",
       " array(['Western NY', 'Allegany', 37.0, '70 or Older', 'F', 'White',\n",
       "        'Not Span/Hispanic', '3', 'Elective', 'Home or Self Care', 122, 0,\n",
       "        'Other pneumonia', 2, 3.0, 'Medical', 0, 'N', 'Y', 3418.18,\n",
       "        3370.87, 0.986160594, 1, 1], dtype=object))"
      ]
     },
     "execution_count": 30,
     "metadata": {},
     "output_type": "execute_result"
    }
   ],
   "source": [
    "tuple(df.head(5).values)"
   ]
  },
  {
   "cell_type": "code",
   "execution_count": 13,
   "id": "9917bd47",
   "metadata": {},
   "outputs": [],
   "source": [
    "d = head.to_dict()"
   ]
  },
  {
   "cell_type": "code",
   "execution_count": 18,
   "id": "811a487c",
   "metadata": {},
   "outputs": [
    {
     "data": {
      "text/plain": [
       "{'Area_Service': {0: 'Western NY',\n",
       "  1: 'Western NY',\n",
       "  2: 'Western NY',\n",
       "  3: 'Western NY',\n",
       "  4: 'Western NY',\n",
       "  5: 'Western NY',\n",
       "  6: 'Western NY',\n",
       "  7: 'Western NY',\n",
       "  8: 'Western NY',\n",
       "  9: 'Western NY'},\n",
       " 'Hospital County': {0: 'Allegany',\n",
       "  1: 'Allegany',\n",
       "  2: 'Allegany',\n",
       "  3: 'Allegany',\n",
       "  4: 'Allegany',\n",
       "  5: 'Allegany',\n",
       "  6: 'Allegany',\n",
       "  7: 'Allegany',\n",
       "  8: 'Allegany',\n",
       "  9: 'Allegany'},\n",
       " 'Hospital Id': {0: 37.0,\n",
       "  1: 37.0,\n",
       "  2: 37.0,\n",
       "  3: 37.0,\n",
       "  4: 37.0,\n",
       "  5: 37.0,\n",
       "  6: 37.0,\n",
       "  7: 37.0,\n",
       "  8: 37.0,\n",
       "  9: 37.0},\n",
       " 'Age': {0: '30 to 49',\n",
       "  1: '70 or Older',\n",
       "  2: '30 to 49',\n",
       "  3: '0 to 17',\n",
       "  4: '70 or Older',\n",
       "  5: '0 to 17',\n",
       "  6: '18 to 29',\n",
       "  7: '70 or Older',\n",
       "  8: '0 to 17',\n",
       "  9: '50 to 69'},\n",
       " 'Gender': {0: 'F',\n",
       "  1: 'F',\n",
       "  2: 'F',\n",
       "  3: 'F',\n",
       "  4: 'F',\n",
       "  5: 'F',\n",
       "  6: 'M',\n",
       "  7: 'F',\n",
       "  8: 'M',\n",
       "  9: 'M'},\n",
       " 'Cultural_group': {0: 'White',\n",
       "  1: 'White',\n",
       "  2: 'White',\n",
       "  3: 'White',\n",
       "  4: 'White',\n",
       "  5: 'White',\n",
       "  6: 'White',\n",
       "  7: 'White',\n",
       "  8: 'White',\n",
       "  9: 'White'},\n",
       " 'ethnicity': {0: 'Not Span/Hispanic',\n",
       "  1: 'Not Span/Hispanic',\n",
       "  2: 'Not Span/Hispanic',\n",
       "  3: 'Not Span/Hispanic',\n",
       "  4: 'Not Span/Hispanic',\n",
       "  5: 'Not Span/Hispanic',\n",
       "  6: 'Not Span/Hispanic',\n",
       "  7: 'Not Span/Hispanic',\n",
       "  8: 'Not Span/Hispanic',\n",
       "  9: 'Not Span/Hispanic'},\n",
       " 'Days_spend_hsptl': {0: '4',\n",
       "  1: '4',\n",
       "  2: '3',\n",
       "  3: '1',\n",
       "  4: '3',\n",
       "  5: '1',\n",
       "  6: '3',\n",
       "  7: '1',\n",
       "  8: '1',\n",
       "  9: '2'},\n",
       " 'Admission_type': {0: 'Elective',\n",
       "  1: 'Urgent',\n",
       "  2: 'Urgent',\n",
       "  3: 'Urgent',\n",
       "  4: 'Elective',\n",
       "  5: 'Elective',\n",
       "  6: 'Elective',\n",
       "  7: 'Elective',\n",
       "  8: 'Elective',\n",
       "  9: 'Elective'},\n",
       " 'Home or self care,': {0: 'Home or Self Care',\n",
       "  1: 'Short-term Hospital',\n",
       "  2: 'Home or Self Care',\n",
       "  3: 'Home or Self Care',\n",
       "  4: 'Home or Self Care',\n",
       "  5: 'Home or Self Care',\n",
       "  6: 'Home or Self Care',\n",
       "  7: 'Home or Self Care',\n",
       "  8: 'Home or Self Care',\n",
       "  9: 'Home or Self Care'},\n",
       " 'ccs_diagnosis_code': {0: 122,\n",
       "  1: 197,\n",
       "  2: 122,\n",
       "  3: 122,\n",
       "  4: 122,\n",
       "  5: 142,\n",
       "  6: 122,\n",
       "  7: 154,\n",
       "  8: 125,\n",
       "  9: 122},\n",
       " 'ccs_procedure_code': {0: 0,\n",
       "  1: 0,\n",
       "  2: 0,\n",
       "  3: 0,\n",
       "  4: 0,\n",
       "  5: 0,\n",
       "  6: 0,\n",
       "  7: 202,\n",
       "  8: 0,\n",
       "  9: 0},\n",
       " 'apr_drg_description': {0: 'Other pneumonia',\n",
       "  1: 'Cellulitis & other skin infections',\n",
       "  2: 'Other pneumonia',\n",
       "  3: 'Other pneumonia',\n",
       "  4: 'Other pneumonia',\n",
       "  5: 'Other digestive system diagnoses',\n",
       "  6: 'Other pneumonia',\n",
       "  7: 'Other gastroenteritis, nausa & vomiting',\n",
       "  8: 'Bronchiolitis & RSV pneumonia',\n",
       "  9: 'Other pneumonia'},\n",
       " 'Code_illness': {0: 1, 1: 3, 2: 1, 3: 1, 4: 2, 5: 1, 6: 2, 7: 2, 8: 1, 9: 2},\n",
       " 'Mortality risk': {0: 1.0,\n",
       "  1: 2.0,\n",
       "  2: 1.0,\n",
       "  3: 1.0,\n",
       "  4: 3.0,\n",
       "  5: 1.0,\n",
       "  6: 1.0,\n",
       "  7: 3.0,\n",
       "  8: 1.0,\n",
       "  9: 1.0},\n",
       " 'Surg_Description': {0: 'Medical',\n",
       "  1: 'Medical',\n",
       "  2: 'Medical',\n",
       "  3: 'Medical',\n",
       "  4: 'Medical',\n",
       "  5: 'Medical',\n",
       "  6: 'Medical',\n",
       "  7: 'Medical',\n",
       "  8: 'Medical',\n",
       "  9: 'Medical'},\n",
       " 'Weight_baby': {0: 0, 1: 0, 2: 0, 3: 0, 4: 0, 5: 0, 6: 0, 7: 0, 8: 0, 9: 0},\n",
       " 'Abortion': {0: 'N',\n",
       "  1: 'N',\n",
       "  2: 'N',\n",
       "  3: 'N',\n",
       "  4: 'N',\n",
       "  5: 'N',\n",
       "  6: 'N',\n",
       "  7: 'N',\n",
       "  8: 'N',\n",
       "  9: 'N'},\n",
       " 'Emergency dept_yes/No': {0: 'Y',\n",
       "  1: 'Y',\n",
       "  2: 'Y',\n",
       "  3: 'Y',\n",
       "  4: 'Y',\n",
       "  5: 'Y',\n",
       "  6: 'Y',\n",
       "  7: 'Y',\n",
       "  8: 'N',\n",
       "  9: 'Y'},\n",
       " 'Tot_charg': {0: 5511.95,\n",
       "  1: 4783.2,\n",
       "  2: 3829.15,\n",
       "  3: 1108.2,\n",
       "  4: 3418.18,\n",
       "  5: 1386.1,\n",
       "  6: 3373.1,\n",
       "  7: 1190.75,\n",
       "  8: 528.04,\n",
       "  9: 2661.61},\n",
       " 'Tot_cost': {0: 5582.49,\n",
       "  1: 5162.82,\n",
       "  2: 4056.52,\n",
       "  3: 1644.75,\n",
       "  4: 3370.87,\n",
       "  5: 1919.46,\n",
       "  6: 3597.63,\n",
       "  7: 1632.7,\n",
       "  8: 596.04,\n",
       "  9: 2901.41},\n",
       " 'ratio_of_total_costs_to_total_charges': {0: 1.012797612,\n",
       "  1: 1.079364503,\n",
       "  2: 1.059378662,\n",
       "  3: 1.484167069,\n",
       "  4: 0.986160594,\n",
       "  5: 1.384794313,\n",
       "  6: 1.066564747,\n",
       "  7: 1.371150039,\n",
       "  8: 1.128782353,\n",
       "  9: 1.090095414},\n",
       " 'Result': {0: 1, 1: 1, 2: 1, 3: 0, 4: 1, 5: 1, 6: 1, 7: 1, 8: 1, 9: 0},\n",
       " 'Payment_Typology': {0: 1,\n",
       "  1: 1,\n",
       "  2: 1,\n",
       "  3: 1,\n",
       "  4: 1,\n",
       "  5: 1,\n",
       "  6: 1,\n",
       "  7: 1,\n",
       "  8: 1,\n",
       "  9: 1}}"
      ]
     },
     "execution_count": 18,
     "metadata": {},
     "output_type": "execute_result"
    }
   ],
   "source": [
    "d"
   ]
  },
  {
   "cell_type": "code",
   "execution_count": 3,
   "id": "b3cb3e58",
   "metadata": {},
   "outputs": [],
   "source": [
    "# No.of rows and columns in dataset\n",
    "shape = df.shape"
   ]
  },
  {
   "cell_type": "code",
   "execution_count": 4,
   "id": "d9fbf778",
   "metadata": {},
   "outputs": [
    {
     "data": {
      "text/plain": [
       "24"
      ]
     },
     "execution_count": 4,
     "metadata": {},
     "output_type": "execute_result"
    }
   ],
   "source": [
    "# print(shape, type(shape))\n",
    "shape[1]"
   ]
  },
  {
   "cell_type": "code",
   "execution_count": 5,
   "id": "b4cf56b2",
   "metadata": {},
   "outputs": [
    {
     "name": "stdout",
     "output_type": "stream",
     "text": [
      "[]\n"
     ]
    },
    {
     "ename": "TypeError",
     "evalue": "list.count() takes exactly one argument (0 given)",
     "output_type": "error",
     "traceback": [
      "\u001b[1;31m---------------------------------------------------------------------------\u001b[0m",
      "\u001b[1;31mTypeError\u001b[0m                                 Traceback (most recent call last)",
      "Cell \u001b[1;32mIn [5], line 9\u001b[0m\n\u001b[0;32m      6\u001b[0m     types\u001b[39m.\u001b[39mappend(\u001b[39mf\u001b[39m\u001b[39m'\u001b[39m\u001b[39m{\u001b[39;00mdf[c]\u001b[39m.\u001b[39mdtypes\u001b[39m}\u001b[39;00m\u001b[39m'\u001b[39m)\n\u001b[0;32m      7\u001b[0m \u001b[39m# print(types)\u001b[39;00m\n\u001b[1;32m----> 9\u001b[0m types\u001b[39m.\u001b[39;49mcount()\n",
      "\u001b[1;31mTypeError\u001b[0m: list.count() takes exactly one argument (0 given)"
     ]
    }
   ],
   "source": [
    "col =tuple(df.columns)\n",
    "# print(col, type(col))\n",
    "types = []\n",
    "print(types)\n",
    "for c in col:\n",
    "    types.append(f'{df[c].dtypes}')\n",
    "# print(types)\n",
    "\n",
    "types.count()\n"
   ]
  },
  {
   "cell_type": "code",
   "execution_count": 4,
   "id": "3d695d31",
   "metadata": {},
   "outputs": [
    {
     "data": {
      "text/html": [
       "<div>\n",
       "<style scoped>\n",
       "    .dataframe tbody tr th:only-of-type {\n",
       "        vertical-align: middle;\n",
       "    }\n",
       "\n",
       "    .dataframe tbody tr th {\n",
       "        vertical-align: top;\n",
       "    }\n",
       "\n",
       "    .dataframe thead th {\n",
       "        text-align: right;\n",
       "    }\n",
       "</style>\n",
       "<table border=\"1\" class=\"dataframe\">\n",
       "  <thead>\n",
       "    <tr style=\"text-align: right;\">\n",
       "      <th></th>\n",
       "      <th>Area_Service</th>\n",
       "      <th>Hospital County</th>\n",
       "      <th>Hospital Id</th>\n",
       "      <th>Age</th>\n",
       "      <th>Gender</th>\n",
       "      <th>Cultural_group</th>\n",
       "      <th>ethnicity</th>\n",
       "      <th>Days_spend_hsptl</th>\n",
       "      <th>Admission_type</th>\n",
       "      <th>Home or self care,</th>\n",
       "      <th>...</th>\n",
       "      <th>Mortality risk</th>\n",
       "      <th>Surg_Description</th>\n",
       "      <th>Weight_baby</th>\n",
       "      <th>Abortion</th>\n",
       "      <th>Emergency dept_yes/No</th>\n",
       "      <th>Tot_charg</th>\n",
       "      <th>Tot_cost</th>\n",
       "      <th>ratio_of_total_costs_to_total_charges</th>\n",
       "      <th>Result</th>\n",
       "      <th>Payment_Typology</th>\n",
       "    </tr>\n",
       "  </thead>\n",
       "  <tbody>\n",
       "    <tr>\n",
       "      <th>0</th>\n",
       "      <td>Western NY</td>\n",
       "      <td>Allegany</td>\n",
       "      <td>37.0</td>\n",
       "      <td>30 to 49</td>\n",
       "      <td>F</td>\n",
       "      <td>White</td>\n",
       "      <td>Not Span/Hispanic</td>\n",
       "      <td>4</td>\n",
       "      <td>Elective</td>\n",
       "      <td>Home or Self Care</td>\n",
       "      <td>...</td>\n",
       "      <td>1.0</td>\n",
       "      <td>Medical</td>\n",
       "      <td>0</td>\n",
       "      <td>N</td>\n",
       "      <td>Y</td>\n",
       "      <td>5511.95</td>\n",
       "      <td>5582.49</td>\n",
       "      <td>1.012798</td>\n",
       "      <td>1</td>\n",
       "      <td>1</td>\n",
       "    </tr>\n",
       "    <tr>\n",
       "      <th>1</th>\n",
       "      <td>Western NY</td>\n",
       "      <td>Allegany</td>\n",
       "      <td>37.0</td>\n",
       "      <td>70 or Older</td>\n",
       "      <td>F</td>\n",
       "      <td>White</td>\n",
       "      <td>Not Span/Hispanic</td>\n",
       "      <td>4</td>\n",
       "      <td>Urgent</td>\n",
       "      <td>Short-term Hospital</td>\n",
       "      <td>...</td>\n",
       "      <td>2.0</td>\n",
       "      <td>Medical</td>\n",
       "      <td>0</td>\n",
       "      <td>N</td>\n",
       "      <td>Y</td>\n",
       "      <td>4783.20</td>\n",
       "      <td>5162.82</td>\n",
       "      <td>1.079365</td>\n",
       "      <td>1</td>\n",
       "      <td>1</td>\n",
       "    </tr>\n",
       "    <tr>\n",
       "      <th>2</th>\n",
       "      <td>Western NY</td>\n",
       "      <td>Allegany</td>\n",
       "      <td>37.0</td>\n",
       "      <td>30 to 49</td>\n",
       "      <td>F</td>\n",
       "      <td>White</td>\n",
       "      <td>Not Span/Hispanic</td>\n",
       "      <td>3</td>\n",
       "      <td>Urgent</td>\n",
       "      <td>Home or Self Care</td>\n",
       "      <td>...</td>\n",
       "      <td>1.0</td>\n",
       "      <td>Medical</td>\n",
       "      <td>0</td>\n",
       "      <td>N</td>\n",
       "      <td>Y</td>\n",
       "      <td>3829.15</td>\n",
       "      <td>4056.52</td>\n",
       "      <td>1.059379</td>\n",
       "      <td>1</td>\n",
       "      <td>1</td>\n",
       "    </tr>\n",
       "    <tr>\n",
       "      <th>3</th>\n",
       "      <td>Western NY</td>\n",
       "      <td>Allegany</td>\n",
       "      <td>37.0</td>\n",
       "      <td>0 to 17</td>\n",
       "      <td>F</td>\n",
       "      <td>White</td>\n",
       "      <td>Not Span/Hispanic</td>\n",
       "      <td>1</td>\n",
       "      <td>Urgent</td>\n",
       "      <td>Home or Self Care</td>\n",
       "      <td>...</td>\n",
       "      <td>1.0</td>\n",
       "      <td>Medical</td>\n",
       "      <td>0</td>\n",
       "      <td>N</td>\n",
       "      <td>Y</td>\n",
       "      <td>1108.20</td>\n",
       "      <td>1644.75</td>\n",
       "      <td>1.484167</td>\n",
       "      <td>0</td>\n",
       "      <td>1</td>\n",
       "    </tr>\n",
       "    <tr>\n",
       "      <th>4</th>\n",
       "      <td>Western NY</td>\n",
       "      <td>Allegany</td>\n",
       "      <td>37.0</td>\n",
       "      <td>70 or Older</td>\n",
       "      <td>F</td>\n",
       "      <td>White</td>\n",
       "      <td>Not Span/Hispanic</td>\n",
       "      <td>3</td>\n",
       "      <td>Elective</td>\n",
       "      <td>Home or Self Care</td>\n",
       "      <td>...</td>\n",
       "      <td>3.0</td>\n",
       "      <td>Medical</td>\n",
       "      <td>0</td>\n",
       "      <td>N</td>\n",
       "      <td>Y</td>\n",
       "      <td>3418.18</td>\n",
       "      <td>3370.87</td>\n",
       "      <td>0.986161</td>\n",
       "      <td>1</td>\n",
       "      <td>1</td>\n",
       "    </tr>\n",
       "  </tbody>\n",
       "</table>\n",
       "<p>5 rows × 24 columns</p>\n",
       "</div>"
      ],
      "text/plain": [
       "  Area_Service Hospital County  Hospital Id          Age Gender  \\\n",
       "0   Western NY        Allegany         37.0     30 to 49      F   \n",
       "1   Western NY        Allegany         37.0  70 or Older      F   \n",
       "2   Western NY        Allegany         37.0     30 to 49      F   \n",
       "3   Western NY        Allegany         37.0      0 to 17      F   \n",
       "4   Western NY        Allegany         37.0  70 or Older      F   \n",
       "\n",
       "  Cultural_group          ethnicity Days_spend_hsptl Admission_type  \\\n",
       "0          White  Not Span/Hispanic                4       Elective   \n",
       "1          White  Not Span/Hispanic                4         Urgent   \n",
       "2          White  Not Span/Hispanic                3         Urgent   \n",
       "3          White  Not Span/Hispanic                1         Urgent   \n",
       "4          White  Not Span/Hispanic                3       Elective   \n",
       "\n",
       "    Home or self care,  ...  Mortality risk  Surg_Description Weight_baby  \\\n",
       "0    Home or Self Care  ...             1.0           Medical           0   \n",
       "1  Short-term Hospital  ...             2.0           Medical           0   \n",
       "2    Home or Self Care  ...             1.0           Medical           0   \n",
       "3    Home or Self Care  ...             1.0           Medical           0   \n",
       "4    Home or Self Care  ...             3.0           Medical           0   \n",
       "\n",
       "   Abortion  Emergency dept_yes/No Tot_charg  Tot_cost  \\\n",
       "0         N                      Y   5511.95   5582.49   \n",
       "1         N                      Y   4783.20   5162.82   \n",
       "2         N                      Y   3829.15   4056.52   \n",
       "3         N                      Y   1108.20   1644.75   \n",
       "4         N                      Y   3418.18   3370.87   \n",
       "\n",
       "  ratio_of_total_costs_to_total_charges Result  Payment_Typology  \n",
       "0                              1.012798      1                 1  \n",
       "1                              1.079365      1                 1  \n",
       "2                              1.059379      1                 1  \n",
       "3                              1.484167      0                 1  \n",
       "4                              0.986161      1                 1  \n",
       "\n",
       "[5 rows x 24 columns]"
      ]
     },
     "execution_count": 4,
     "metadata": {},
     "output_type": "execute_result"
    }
   ],
   "source": [
    "#  sample data\n",
    "df.head()"
   ]
  },
  {
   "cell_type": "code",
   "execution_count": 15,
   "id": "1e5c258b",
   "metadata": {},
   "outputs": [
    {
     "name": "stdout",
     "output_type": "stream",
     "text": [
      "<class 'pandas.core.frame.DataFrame'>\n",
      "RangeIndex: 1048575 entries, 0 to 1048574\n",
      "Data columns (total 24 columns):\n",
      " #   Column                                 Non-Null Count    Dtype  \n",
      "---  ------                                 --------------    -----  \n",
      " 0   Area_Service                           1046119 non-null  object \n",
      " 1   Hospital County                        1046119 non-null  object \n",
      " 2   Hospital Id                            1046119 non-null  float64\n",
      " 3   Age                                    1048575 non-null  object \n",
      " 4   Gender                                 1048575 non-null  object \n",
      " 5   Cultural_group                         1048575 non-null  object \n",
      " 6   ethnicity                              1048575 non-null  object \n",
      " 7   Days_spend_hsptl                       1048575 non-null  object \n",
      " 8   Admission_type                         1048575 non-null  object \n",
      " 9   Home or self care,                     1048575 non-null  object \n",
      " 10  ccs_diagnosis_code                     1048575 non-null  int64  \n",
      " 11  ccs_procedure_code                     1048575 non-null  int64  \n",
      " 12  apr_drg_description                    1048575 non-null  object \n",
      " 13  Code_illness                           1048575 non-null  int64  \n",
      " 14  Mortality risk                         1048533 non-null  float64\n",
      " 15  Surg_Description                       1048575 non-null  object \n",
      " 16  Weight_baby                            1048575 non-null  int64  \n",
      " 17  Abortion                               1048575 non-null  object \n",
      " 18  Emergency dept_yes/No                  1048575 non-null  object \n",
      " 19  Tot_charg                              1048575 non-null  float64\n",
      " 20  Tot_cost                               1048575 non-null  float64\n",
      " 21  ratio_of_total_costs_to_total_charges  1048575 non-null  float64\n",
      " 22  Result                                 1048575 non-null  int64  \n",
      " 23  Payment_Typology                       1048575 non-null  int64  \n",
      "dtypes: float64(5), int64(6), object(13)\n",
      "memory usage: 192.0+ MB\n",
      "None <class 'NoneType'>\n"
     ]
    }
   ],
   "source": [
    "# catagorical and numerical data fields\n",
    "\n",
    "info =df.info()\n",
    "\n",
    "print(info, type(info)) "
   ]
  },
  {
   "cell_type": "raw",
   "id": "2b6223c1",
   "metadata": {},
   "source": [
    "above we noticed that the column \" Days_spend_hsptl \" is in object datatype instead of being in numerical type ."
   ]
  },
  {
   "cell_type": "code",
   "execution_count": 6,
   "id": "5717af0e",
   "metadata": {},
   "outputs": [
    {
     "name": "stdout",
     "output_type": "stream",
     "text": [
      "<class 'pandas.core.frame.DataFrame'>\n",
      "RangeIndex: 1048575 entries, 0 to 1048574\n",
      "Data columns (total 1 columns):\n",
      " #   Column            Non-Null Count    Dtype \n",
      "---  ------            --------------    ----- \n",
      " 0   Days_spend_hsptl  1048575 non-null  object\n",
      "dtypes: object(1)\n",
      "memory usage: 8.0+ MB\n"
     ]
    }
   ],
   "source": [
    "df[['Days_spend_hsptl']].info()"
   ]
  },
  {
   "cell_type": "code",
   "execution_count": 7,
   "id": "22558b70",
   "metadata": {},
   "outputs": [
    {
     "data": {
      "text/html": [
       "<div>\n",
       "<style scoped>\n",
       "    .dataframe tbody tr th:only-of-type {\n",
       "        vertical-align: middle;\n",
       "    }\n",
       "\n",
       "    .dataframe tbody tr th {\n",
       "        vertical-align: top;\n",
       "    }\n",
       "\n",
       "    .dataframe thead th {\n",
       "        text-align: right;\n",
       "    }\n",
       "</style>\n",
       "<table border=\"1\" class=\"dataframe\">\n",
       "  <thead>\n",
       "    <tr style=\"text-align: right;\">\n",
       "      <th></th>\n",
       "      <th>Days_spend_hsptl</th>\n",
       "    </tr>\n",
       "  </thead>\n",
       "  <tbody>\n",
       "    <tr>\n",
       "      <th>0</th>\n",
       "      <td>4</td>\n",
       "    </tr>\n",
       "    <tr>\n",
       "      <th>1</th>\n",
       "      <td>4</td>\n",
       "    </tr>\n",
       "    <tr>\n",
       "      <th>2</th>\n",
       "      <td>3</td>\n",
       "    </tr>\n",
       "    <tr>\n",
       "      <th>3</th>\n",
       "      <td>1</td>\n",
       "    </tr>\n",
       "    <tr>\n",
       "      <th>4</th>\n",
       "      <td>3</td>\n",
       "    </tr>\n",
       "    <tr>\n",
       "      <th>...</th>\n",
       "      <td>...</td>\n",
       "    </tr>\n",
       "    <tr>\n",
       "      <th>1048570</th>\n",
       "      <td>6</td>\n",
       "    </tr>\n",
       "    <tr>\n",
       "      <th>1048571</th>\n",
       "      <td>2</td>\n",
       "    </tr>\n",
       "    <tr>\n",
       "      <th>1048572</th>\n",
       "      <td>13</td>\n",
       "    </tr>\n",
       "    <tr>\n",
       "      <th>1048573</th>\n",
       "      <td>2</td>\n",
       "    </tr>\n",
       "    <tr>\n",
       "      <th>1048574</th>\n",
       "      <td>2</td>\n",
       "    </tr>\n",
       "  </tbody>\n",
       "</table>\n",
       "<p>1048575 rows × 1 columns</p>\n",
       "</div>"
      ],
      "text/plain": [
       "        Days_spend_hsptl\n",
       "0                      4\n",
       "1                      4\n",
       "2                      3\n",
       "3                      1\n",
       "4                      3\n",
       "...                  ...\n",
       "1048570                6\n",
       "1048571                2\n",
       "1048572               13\n",
       "1048573                2\n",
       "1048574                2\n",
       "\n",
       "[1048575 rows x 1 columns]"
      ]
     },
     "execution_count": 7,
     "metadata": {},
     "output_type": "execute_result"
    }
   ],
   "source": [
    "df[[\"Days_spend_hsptl\"]]"
   ]
  },
  {
   "cell_type": "code",
   "execution_count": 9,
   "id": "045706a9",
   "metadata": {},
   "outputs": [
    {
     "data": {
      "text/html": [
       "<div>\n",
       "<style scoped>\n",
       "    .dataframe tbody tr th:only-of-type {\n",
       "        vertical-align: middle;\n",
       "    }\n",
       "\n",
       "    .dataframe tbody tr th {\n",
       "        vertical-align: top;\n",
       "    }\n",
       "\n",
       "    .dataframe thead th {\n",
       "        text-align: right;\n",
       "    }\n",
       "</style>\n",
       "<table border=\"1\" class=\"dataframe\">\n",
       "  <thead>\n",
       "    <tr style=\"text-align: right;\">\n",
       "      <th></th>\n",
       "      <th>Days_spend_hsptl</th>\n",
       "    </tr>\n",
       "  </thead>\n",
       "  <tbody>\n",
       "    <tr>\n",
       "      <th>count</th>\n",
       "      <td>1048575</td>\n",
       "    </tr>\n",
       "    <tr>\n",
       "      <th>unique</th>\n",
       "      <td>120</td>\n",
       "    </tr>\n",
       "    <tr>\n",
       "      <th>top</th>\n",
       "      <td>2</td>\n",
       "    </tr>\n",
       "    <tr>\n",
       "      <th>freq</th>\n",
       "      <td>236538</td>\n",
       "    </tr>\n",
       "  </tbody>\n",
       "</table>\n",
       "</div>"
      ],
      "text/plain": [
       "       Days_spend_hsptl\n",
       "count           1048575\n",
       "unique              120\n",
       "top                   2\n",
       "freq             236538"
      ]
     },
     "metadata": {},
     "output_type": "display_data"
    },
    {
     "data": {
      "text/plain": [
       "Days_spend_hsptl    99\n",
       "dtype: object"
      ]
     },
     "metadata": {},
     "output_type": "display_data"
    },
    {
     "data": {
      "text/plain": [
       "Days_spend_hsptl    1\n",
       "dtype: object"
      ]
     },
     "metadata": {},
     "output_type": "display_data"
    },
    {
     "data": {
      "text/html": [
       "<div>\n",
       "<style scoped>\n",
       "    .dataframe tbody tr th:only-of-type {\n",
       "        vertical-align: middle;\n",
       "    }\n",
       "\n",
       "    .dataframe tbody tr th {\n",
       "        vertical-align: top;\n",
       "    }\n",
       "\n",
       "    .dataframe thead th {\n",
       "        text-align: right;\n",
       "    }\n",
       "</style>\n",
       "<table border=\"1\" class=\"dataframe\">\n",
       "  <thead>\n",
       "    <tr style=\"text-align: right;\">\n",
       "      <th></th>\n",
       "      <th>Days_spend_hsptl</th>\n",
       "    </tr>\n",
       "  </thead>\n",
       "  <tbody>\n",
       "    <tr>\n",
       "      <th>0</th>\n",
       "      <td>2</td>\n",
       "    </tr>\n",
       "  </tbody>\n",
       "</table>\n",
       "</div>"
      ],
      "text/plain": [
       "  Days_spend_hsptl\n",
       "0                2"
      ]
     },
     "metadata": {},
     "output_type": "display_data"
    },
    {
     "name": "stderr",
     "output_type": "stream",
     "text": [
      "C:\\Users\\acesi\\AppData\\Local\\Temp/ipykernel_19052/63321030.py:5: FutureWarning: Dropping of nuisance columns in DataFrame reductions (with 'numeric_only=None') is deprecated; in a future version this will raise TypeError.  Select only valid columns before calling the reduction.\n",
      "  display(df[['Days_spend_hsptl']].median())\n"
     ]
    },
    {
     "data": {
      "text/plain": [
       "Series([], dtype: float64)"
      ]
     },
     "metadata": {},
     "output_type": "display_data"
    },
    {
     "name": "stderr",
     "output_type": "stream",
     "text": [
      "C:\\Users\\acesi\\AppData\\Local\\Temp/ipykernel_19052/63321030.py:6: FutureWarning: Dropping of nuisance columns in DataFrame reductions (with 'numeric_only=None') is deprecated; in a future version this will raise TypeError.  Select only valid columns before calling the reduction.\n",
      "  display(df[['Days_spend_hsptl']].mean())\n"
     ]
    },
    {
     "data": {
      "text/plain": [
       "Series([], dtype: float64)"
      ]
     },
     "metadata": {},
     "output_type": "display_data"
    }
   ],
   "source": [
    "display(df[['Days_spend_hsptl']].describe())\n",
    "display(df[['Days_spend_hsptl']].max())\n",
    "display(df[['Days_spend_hsptl']].min())\n",
    "display(df[['Days_spend_hsptl']].mode())\n",
    "display(df[['Days_spend_hsptl']].median())\n",
    "display(df[['Days_spend_hsptl']].mean())"
   ]
  },
  {
   "cell_type": "markdown",
   "id": "eea199b5",
   "metadata": {},
   "source": [
    "#####  we have to change the type from object to numerical "
   ]
  },
  {
   "cell_type": "code",
   "execution_count": 3,
   "id": "2fe838da",
   "metadata": {},
   "outputs": [],
   "source": [
    "df['Days_spend_hsptl']=pd.to_numeric(df['Days_spend_hsptl'],errors='coerce')"
   ]
  },
  {
   "cell_type": "code",
   "execution_count": 5,
   "id": "abaf68ba",
   "metadata": {},
   "outputs": [],
   "source": [
    "#  df['Days_spend_hsptl']=df[['Days_spend_hsptl']].astype(np.int64)\n",
    "\n",
    "# we also use this command to change the datatype "
   ]
  },
  {
   "cell_type": "code",
   "execution_count": 6,
   "id": "9ff72bdf",
   "metadata": {},
   "outputs": [
    {
     "name": "stdout",
     "output_type": "stream",
     "text": [
      "<class 'pandas.core.frame.DataFrame'>\n",
      "RangeIndex: 1048575 entries, 0 to 1048574\n",
      "Data columns (total 1 columns):\n",
      " #   Column            Non-Null Count    Dtype  \n",
      "---  ------            --------------    -----  \n",
      " 0   Days_spend_hsptl  1047810 non-null  float64\n",
      "dtypes: float64(1)\n",
      "memory usage: 8.0 MB\n"
     ]
    }
   ],
   "source": [
    "df[['Days_spend_hsptl']].info()"
   ]
  },
  {
   "cell_type": "code",
   "execution_count": 11,
   "id": "7047c076",
   "metadata": {},
   "outputs": [
    {
     "data": {
      "text/html": [
       "<div>\n",
       "<style scoped>\n",
       "    .dataframe tbody tr th:only-of-type {\n",
       "        vertical-align: middle;\n",
       "    }\n",
       "\n",
       "    .dataframe tbody tr th {\n",
       "        vertical-align: top;\n",
       "    }\n",
       "\n",
       "    .dataframe thead th {\n",
       "        text-align: right;\n",
       "    }\n",
       "</style>\n",
       "<table border=\"1\" class=\"dataframe\">\n",
       "  <thead>\n",
       "    <tr style=\"text-align: right;\">\n",
       "      <th></th>\n",
       "      <th>Days_spend_hsptl</th>\n",
       "    </tr>\n",
       "  </thead>\n",
       "  <tbody>\n",
       "    <tr>\n",
       "      <th>count</th>\n",
       "      <td>1.047810e+06</td>\n",
       "    </tr>\n",
       "    <tr>\n",
       "      <th>mean</th>\n",
       "      <td>5.328054e+00</td>\n",
       "    </tr>\n",
       "    <tr>\n",
       "      <th>std</th>\n",
       "      <td>7.297932e+00</td>\n",
       "    </tr>\n",
       "    <tr>\n",
       "      <th>min</th>\n",
       "      <td>1.000000e+00</td>\n",
       "    </tr>\n",
       "    <tr>\n",
       "      <th>25%</th>\n",
       "      <td>2.000000e+00</td>\n",
       "    </tr>\n",
       "    <tr>\n",
       "      <th>50%</th>\n",
       "      <td>3.000000e+00</td>\n",
       "    </tr>\n",
       "    <tr>\n",
       "      <th>75%</th>\n",
       "      <td>6.000000e+00</td>\n",
       "    </tr>\n",
       "    <tr>\n",
       "      <th>max</th>\n",
       "      <td>1.190000e+02</td>\n",
       "    </tr>\n",
       "  </tbody>\n",
       "</table>\n",
       "</div>"
      ],
      "text/plain": [
       "       Days_spend_hsptl\n",
       "count      1.047810e+06\n",
       "mean       5.328054e+00\n",
       "std        7.297932e+00\n",
       "min        1.000000e+00\n",
       "25%        2.000000e+00\n",
       "50%        3.000000e+00\n",
       "75%        6.000000e+00\n",
       "max        1.190000e+02"
      ]
     },
     "metadata": {},
     "output_type": "display_data"
    },
    {
     "name": "stdout",
     "output_type": "stream",
     "text": [
      "Maximum\n"
     ]
    },
    {
     "data": {
      "text/plain": [
       "Days_spend_hsptl    119.0\n",
       "dtype: float64"
      ]
     },
     "metadata": {},
     "output_type": "display_data"
    },
    {
     "name": "stdout",
     "output_type": "stream",
     "text": [
      "Minimum\n"
     ]
    },
    {
     "data": {
      "text/plain": [
       "Days_spend_hsptl    1.0\n",
       "dtype: float64"
      ]
     },
     "metadata": {},
     "output_type": "display_data"
    },
    {
     "name": "stdout",
     "output_type": "stream",
     "text": [
      "Mode\n"
     ]
    },
    {
     "data": {
      "text/html": [
       "<div>\n",
       "<style scoped>\n",
       "    .dataframe tbody tr th:only-of-type {\n",
       "        vertical-align: middle;\n",
       "    }\n",
       "\n",
       "    .dataframe tbody tr th {\n",
       "        vertical-align: top;\n",
       "    }\n",
       "\n",
       "    .dataframe thead th {\n",
       "        text-align: right;\n",
       "    }\n",
       "</style>\n",
       "<table border=\"1\" class=\"dataframe\">\n",
       "  <thead>\n",
       "    <tr style=\"text-align: right;\">\n",
       "      <th></th>\n",
       "      <th>Days_spend_hsptl</th>\n",
       "    </tr>\n",
       "  </thead>\n",
       "  <tbody>\n",
       "    <tr>\n",
       "      <th>0</th>\n",
       "      <td>2.0</td>\n",
       "    </tr>\n",
       "  </tbody>\n",
       "</table>\n",
       "</div>"
      ],
      "text/plain": [
       "   Days_spend_hsptl\n",
       "0               2.0"
      ]
     },
     "metadata": {},
     "output_type": "display_data"
    },
    {
     "name": "stdout",
     "output_type": "stream",
     "text": [
      "Median\n"
     ]
    },
    {
     "data": {
      "text/plain": [
       "Days_spend_hsptl    3.0\n",
       "dtype: float64"
      ]
     },
     "metadata": {},
     "output_type": "display_data"
    },
    {
     "name": "stdout",
     "output_type": "stream",
     "text": [
      "Mean\n"
     ]
    },
    {
     "data": {
      "text/plain": [
       "Days_spend_hsptl    5.328054\n",
       "dtype: float64"
      ]
     },
     "metadata": {},
     "output_type": "display_data"
    },
    {
     "name": "stdout",
     "output_type": "stream",
     "text": [
      "Count\n"
     ]
    },
    {
     "data": {
      "text/plain": [
       "Days_spend_hsptl    1047810\n",
       "dtype: int64"
      ]
     },
     "metadata": {},
     "output_type": "display_data"
    }
   ],
   "source": [
    "display(df[['Days_spend_hsptl']].describe())\n",
    "print('Maximum')\n",
    "display(df[['Days_spend_hsptl']].max())\n",
    "print('Minimum')\n",
    "display(df[['Days_spend_hsptl']].min())\n",
    "print('Mode')\n",
    "display(df[['Days_spend_hsptl']].mode())\n",
    "print('Median')\n",
    "display(df[['Days_spend_hsptl']].median())\n",
    "print('Mean')\n",
    "display(df[['Days_spend_hsptl']].mean())\n",
    "print(\"Count\")\n",
    "display(df[['Days_spend_hsptl']].count())"
   ]
  },
  {
   "cell_type": "markdown",
   "id": "b2db181d",
   "metadata": {},
   "source": [
    "### looking for null values"
   ]
  },
  {
   "cell_type": "code",
   "execution_count": 30,
   "id": "2a6d6e61",
   "metadata": {},
   "outputs": [
    {
     "name": "stdout",
     "output_type": "stream",
     "text": [
      "<class 'list'>\n"
     ]
    }
   ],
   "source": [
    "isna_ = [df.isna().sum().values]\n",
    "\n",
    "print(type(isna_))"
   ]
  },
  {
   "cell_type": "raw",
   "id": "a88931cb",
   "metadata": {},
   "source": [
    "Above we noticed that we are having NULL values in 5 columns . \n",
    "Since it is a huge dataset so we can just simply drop the NULL values instead of replacing them."
   ]
  },
  {
   "cell_type": "markdown",
   "id": "db793d79",
   "metadata": {},
   "source": [
    "##### drop all null values "
   ]
  },
  {
   "cell_type": "code",
   "execution_count": 31,
   "id": "e4aab67b",
   "metadata": {},
   "outputs": [],
   "source": [
    "df_copy=df.dropna()"
   ]
  },
  {
   "cell_type": "code",
   "execution_count": 32,
   "id": "e24ea9f0",
   "metadata": {},
   "outputs": [
    {
     "data": {
      "text/plain": [
       "Area_Service                             0\n",
       "Hospital County                          0\n",
       "Hospital Id                              0\n",
       "Age                                      0\n",
       "Gender                                   0\n",
       "Cultural_group                           0\n",
       "ethnicity                                0\n",
       "Days_spend_hsptl                         0\n",
       "Admission_type                           0\n",
       "Home or self care,                       0\n",
       "ccs_diagnosis_code                       0\n",
       "ccs_procedure_code                       0\n",
       "apr_drg_description                      0\n",
       "Code_illness                             0\n",
       "Mortality risk                           0\n",
       "Surg_Description                         0\n",
       "Weight_baby                              0\n",
       "Abortion                                 0\n",
       "Emergency dept_yes/No                    0\n",
       "Tot_charg                                0\n",
       "Tot_cost                                 0\n",
       "ratio_of_total_costs_to_total_charges    0\n",
       "Result                                   0\n",
       "Payment_Typology                         0\n",
       "dtype: int64"
      ]
     },
     "execution_count": 32,
     "metadata": {},
     "output_type": "execute_result"
    }
   ],
   "source": [
    "df_copy.isna().sum()"
   ]
  },
  {
   "cell_type": "raw",
   "id": "725a4580",
   "metadata": {},
   "source": [
    "we've droped all NULL values from our dataset and we are storing the cleaned data in another copy of dataset as df_copy\n",
    "we can check the variation in the data by having a look on the no.of records "
   ]
  },
  {
   "cell_type": "code",
   "execution_count": 33,
   "id": "b86e9e41",
   "metadata": {},
   "outputs": [
    {
     "data": {
      "text/plain": [
       "(1046077, 24)"
      ]
     },
     "execution_count": 33,
     "metadata": {},
     "output_type": "execute_result"
    }
   ],
   "source": [
    "# No.of records in dataset without NULL values\n",
    "df_copy.shape"
   ]
  },
  {
   "cell_type": "code",
   "execution_count": 34,
   "id": "43f47bc1",
   "metadata": {},
   "outputs": [
    {
     "data": {
      "text/plain": [
       "(1048575, 24)"
      ]
     },
     "execution_count": 34,
     "metadata": {},
     "output_type": "execute_result"
    }
   ],
   "source": [
    "# No.of Records in dataset with NULL values\n",
    "df.shape"
   ]
  },
  {
   "cell_type": "raw",
   "id": "c4650447",
   "metadata": {},
   "source": [
    "We can see the variation in no of records in the original data and cleaned copy of original data"
   ]
  },
  {
   "cell_type": "markdown",
   "id": "565db13a",
   "metadata": {},
   "source": [
    "### Checking for duplicates "
   ]
  },
  {
   "cell_type": "code",
   "execution_count": 40,
   "id": "2156030e",
   "metadata": {},
   "outputs": [
    {
     "name": "stdout",
     "output_type": "stream",
     "text": [
      "<class 'numpy.int64'>\n"
     ]
    }
   ],
   "source": [
    "dupl = df_copy.duplicated().sum()\n",
    "\n",
    "print(type(dupl))"
   ]
  },
  {
   "cell_type": "code",
   "execution_count": 35,
   "id": "a6d751e1",
   "metadata": {},
   "outputs": [
    {
     "data": {
      "text/plain": [
       "(4812, 24)"
      ]
     },
     "execution_count": 35,
     "metadata": {},
     "output_type": "execute_result"
    }
   ],
   "source": [
    "df_copy[df_copy.duplicated()].shape"
   ]
  },
  {
   "cell_type": "raw",
   "id": "b1f2b936",
   "metadata": {},
   "source": [
    "We got 4812 records of duplicated in our data"
   ]
  },
  {
   "cell_type": "markdown",
   "id": "8b47a3fb",
   "metadata": {},
   "source": [
    "#### looking into those duplicated values sample"
   ]
  },
  {
   "cell_type": "code",
   "execution_count": 9,
   "id": "5491be0c",
   "metadata": {},
   "outputs": [
    {
     "data": {
      "text/html": [
       "<div>\n",
       "<style scoped>\n",
       "    .dataframe tbody tr th:only-of-type {\n",
       "        vertical-align: middle;\n",
       "    }\n",
       "\n",
       "    .dataframe tbody tr th {\n",
       "        vertical-align: top;\n",
       "    }\n",
       "\n",
       "    .dataframe thead th {\n",
       "        text-align: right;\n",
       "    }\n",
       "</style>\n",
       "<table border=\"1\" class=\"dataframe\">\n",
       "  <thead>\n",
       "    <tr style=\"text-align: right;\">\n",
       "      <th></th>\n",
       "      <th>Area_Service</th>\n",
       "      <th>Hospital County</th>\n",
       "      <th>Hospital Id</th>\n",
       "      <th>Age</th>\n",
       "      <th>Gender</th>\n",
       "      <th>Cultural_group</th>\n",
       "      <th>ethnicity</th>\n",
       "      <th>Days_spend_hsptl</th>\n",
       "      <th>Admission_type</th>\n",
       "      <th>Home or self care,</th>\n",
       "      <th>...</th>\n",
       "      <th>Mortality risk</th>\n",
       "      <th>Surg_Description</th>\n",
       "      <th>Weight_baby</th>\n",
       "      <th>Abortion</th>\n",
       "      <th>Emergency dept_yes/No</th>\n",
       "      <th>Tot_charg</th>\n",
       "      <th>Tot_cost</th>\n",
       "      <th>ratio_of_total_costs_to_total_charges</th>\n",
       "      <th>Result</th>\n",
       "      <th>Payment_Typology</th>\n",
       "    </tr>\n",
       "  </thead>\n",
       "  <tbody>\n",
       "    <tr>\n",
       "      <th>1125</th>\n",
       "      <td>Western NY</td>\n",
       "      <td>Allegany</td>\n",
       "      <td>39.0</td>\n",
       "      <td>0 to 17</td>\n",
       "      <td>M</td>\n",
       "      <td>White</td>\n",
       "      <td>Not Span/Hispanic</td>\n",
       "      <td>2.0</td>\n",
       "      <td>Newborn</td>\n",
       "      <td>Home or Self Care</td>\n",
       "      <td>...</td>\n",
       "      <td>1.0</td>\n",
       "      <td>Medical</td>\n",
       "      <td>3700</td>\n",
       "      <td>N</td>\n",
       "      <td>N</td>\n",
       "      <td>1678.75</td>\n",
       "      <td>737.21</td>\n",
       "      <td>0.439141</td>\n",
       "      <td>1</td>\n",
       "      <td>1</td>\n",
       "    </tr>\n",
       "    <tr>\n",
       "      <th>3086</th>\n",
       "      <td>Western NY</td>\n",
       "      <td>Cattaraugus</td>\n",
       "      <td>66.0</td>\n",
       "      <td>0 to 17</td>\n",
       "      <td>M</td>\n",
       "      <td>White</td>\n",
       "      <td>Not Span/Hispanic</td>\n",
       "      <td>2.0</td>\n",
       "      <td>Newborn</td>\n",
       "      <td>Home or Self Care</td>\n",
       "      <td>...</td>\n",
       "      <td>1.0</td>\n",
       "      <td>Medical</td>\n",
       "      <td>3600</td>\n",
       "      <td>N</td>\n",
       "      <td>N</td>\n",
       "      <td>1251.50</td>\n",
       "      <td>829.70</td>\n",
       "      <td>0.662961</td>\n",
       "      <td>0</td>\n",
       "      <td>1</td>\n",
       "    </tr>\n",
       "    <tr>\n",
       "      <th>3226</th>\n",
       "      <td>Western NY</td>\n",
       "      <td>Cattaraugus</td>\n",
       "      <td>66.0</td>\n",
       "      <td>0 to 17</td>\n",
       "      <td>F</td>\n",
       "      <td>White</td>\n",
       "      <td>Not Span/Hispanic</td>\n",
       "      <td>2.0</td>\n",
       "      <td>Newborn</td>\n",
       "      <td>Home or Self Care</td>\n",
       "      <td>...</td>\n",
       "      <td>1.0</td>\n",
       "      <td>Medical</td>\n",
       "      <td>2700</td>\n",
       "      <td>N</td>\n",
       "      <td>N</td>\n",
       "      <td>1150.50</td>\n",
       "      <td>788.65</td>\n",
       "      <td>0.685486</td>\n",
       "      <td>1</td>\n",
       "      <td>1</td>\n",
       "    </tr>\n",
       "    <tr>\n",
       "      <th>4209</th>\n",
       "      <td>Western NY</td>\n",
       "      <td>Cattaraugus</td>\n",
       "      <td>66.0</td>\n",
       "      <td>0 to 17</td>\n",
       "      <td>F</td>\n",
       "      <td>White</td>\n",
       "      <td>Not Span/Hispanic</td>\n",
       "      <td>2.0</td>\n",
       "      <td>Newborn</td>\n",
       "      <td>Home or Self Care</td>\n",
       "      <td>...</td>\n",
       "      <td>1.0</td>\n",
       "      <td>Medical</td>\n",
       "      <td>2700</td>\n",
       "      <td>N</td>\n",
       "      <td>N</td>\n",
       "      <td>1150.50</td>\n",
       "      <td>788.65</td>\n",
       "      <td>0.685486</td>\n",
       "      <td>1</td>\n",
       "      <td>1</td>\n",
       "    </tr>\n",
       "    <tr>\n",
       "      <th>4234</th>\n",
       "      <td>Western NY</td>\n",
       "      <td>Cattaraugus</td>\n",
       "      <td>66.0</td>\n",
       "      <td>0 to 17</td>\n",
       "      <td>F</td>\n",
       "      <td>White</td>\n",
       "      <td>Not Span/Hispanic</td>\n",
       "      <td>2.0</td>\n",
       "      <td>Newborn</td>\n",
       "      <td>Home or Self Care</td>\n",
       "      <td>...</td>\n",
       "      <td>1.0</td>\n",
       "      <td>Medical</td>\n",
       "      <td>2800</td>\n",
       "      <td>N</td>\n",
       "      <td>N</td>\n",
       "      <td>1150.50</td>\n",
       "      <td>788.65</td>\n",
       "      <td>0.685486</td>\n",
       "      <td>0</td>\n",
       "      <td>1</td>\n",
       "    </tr>\n",
       "    <tr>\n",
       "      <th>...</th>\n",
       "      <td>...</td>\n",
       "      <td>...</td>\n",
       "      <td>...</td>\n",
       "      <td>...</td>\n",
       "      <td>...</td>\n",
       "      <td>...</td>\n",
       "      <td>...</td>\n",
       "      <td>...</td>\n",
       "      <td>...</td>\n",
       "      <td>...</td>\n",
       "      <td>...</td>\n",
       "      <td>...</td>\n",
       "      <td>...</td>\n",
       "      <td>...</td>\n",
       "      <td>...</td>\n",
       "      <td>...</td>\n",
       "      <td>...</td>\n",
       "      <td>...</td>\n",
       "      <td>...</td>\n",
       "      <td>...</td>\n",
       "      <td>...</td>\n",
       "    </tr>\n",
       "    <tr>\n",
       "      <th>1015327</th>\n",
       "      <td>New York City</td>\n",
       "      <td>Bronx</td>\n",
       "      <td>1168.0</td>\n",
       "      <td>0 to 17</td>\n",
       "      <td>F</td>\n",
       "      <td>Other Race</td>\n",
       "      <td>Not Span/Hispanic</td>\n",
       "      <td>2.0</td>\n",
       "      <td>Newborn</td>\n",
       "      <td>Home or Self Care</td>\n",
       "      <td>...</td>\n",
       "      <td>1.0</td>\n",
       "      <td>Medical</td>\n",
       "      <td>2900</td>\n",
       "      <td>N</td>\n",
       "      <td>N</td>\n",
       "      <td>5955.85</td>\n",
       "      <td>1303.62</td>\n",
       "      <td>0.218881</td>\n",
       "      <td>1</td>\n",
       "      <td>3</td>\n",
       "    </tr>\n",
       "    <tr>\n",
       "      <th>1025529</th>\n",
       "      <td>New York City</td>\n",
       "      <td>Bronx</td>\n",
       "      <td>1169.0</td>\n",
       "      <td>0 to 17</td>\n",
       "      <td>F</td>\n",
       "      <td>Other Race</td>\n",
       "      <td>Spanish/Hispanic</td>\n",
       "      <td>2.0</td>\n",
       "      <td>Elective</td>\n",
       "      <td>Home or Self Care</td>\n",
       "      <td>...</td>\n",
       "      <td>1.0</td>\n",
       "      <td>Medical</td>\n",
       "      <td>0</td>\n",
       "      <td>N</td>\n",
       "      <td>N</td>\n",
       "      <td>12500.00</td>\n",
       "      <td>2960.11</td>\n",
       "      <td>0.236809</td>\n",
       "      <td>1</td>\n",
       "      <td>3</td>\n",
       "    </tr>\n",
       "    <tr>\n",
       "      <th>1028997</th>\n",
       "      <td>New York City</td>\n",
       "      <td>Bronx</td>\n",
       "      <td>1169.0</td>\n",
       "      <td>0 to 17</td>\n",
       "      <td>F</td>\n",
       "      <td>Other Race</td>\n",
       "      <td>Spanish/Hispanic</td>\n",
       "      <td>2.0</td>\n",
       "      <td>Elective</td>\n",
       "      <td>Home or Self Care</td>\n",
       "      <td>...</td>\n",
       "      <td>1.0</td>\n",
       "      <td>Medical</td>\n",
       "      <td>0</td>\n",
       "      <td>N</td>\n",
       "      <td>N</td>\n",
       "      <td>12557.00</td>\n",
       "      <td>2963.40</td>\n",
       "      <td>0.235996</td>\n",
       "      <td>1</td>\n",
       "      <td>2</td>\n",
       "    </tr>\n",
       "    <tr>\n",
       "      <th>1035973</th>\n",
       "      <td>New York City</td>\n",
       "      <td>Bronx</td>\n",
       "      <td>1169.0</td>\n",
       "      <td>0 to 17</td>\n",
       "      <td>F</td>\n",
       "      <td>Other Race</td>\n",
       "      <td>Spanish/Hispanic</td>\n",
       "      <td>2.0</td>\n",
       "      <td>Elective</td>\n",
       "      <td>Home or Self Care</td>\n",
       "      <td>...</td>\n",
       "      <td>1.0</td>\n",
       "      <td>Medical</td>\n",
       "      <td>0</td>\n",
       "      <td>N</td>\n",
       "      <td>N</td>\n",
       "      <td>12500.00</td>\n",
       "      <td>2960.11</td>\n",
       "      <td>0.236809</td>\n",
       "      <td>1</td>\n",
       "      <td>3</td>\n",
       "    </tr>\n",
       "    <tr>\n",
       "      <th>1043713</th>\n",
       "      <td>New York City</td>\n",
       "      <td>Bronx</td>\n",
       "      <td>1169.0</td>\n",
       "      <td>0 to 17</td>\n",
       "      <td>M</td>\n",
       "      <td>Other Race</td>\n",
       "      <td>Spanish/Hispanic</td>\n",
       "      <td>10.0</td>\n",
       "      <td>Emergency</td>\n",
       "      <td>Home or Self Care</td>\n",
       "      <td>...</td>\n",
       "      <td>3.0</td>\n",
       "      <td>Medical</td>\n",
       "      <td>0</td>\n",
       "      <td>N</td>\n",
       "      <td>Y</td>\n",
       "      <td>65223.50</td>\n",
       "      <td>19853.07</td>\n",
       "      <td>0.304385</td>\n",
       "      <td>0</td>\n",
       "      <td>3</td>\n",
       "    </tr>\n",
       "  </tbody>\n",
       "</table>\n",
       "<p>4812 rows × 24 columns</p>\n",
       "</div>"
      ],
      "text/plain": [
       "          Area_Service Hospital County  Hospital Id      Age Gender  \\\n",
       "1125        Western NY        Allegany         39.0  0 to 17      M   \n",
       "3086        Western NY     Cattaraugus         66.0  0 to 17      M   \n",
       "3226        Western NY     Cattaraugus         66.0  0 to 17      F   \n",
       "4209        Western NY     Cattaraugus         66.0  0 to 17      F   \n",
       "4234        Western NY     Cattaraugus         66.0  0 to 17      F   \n",
       "...                ...             ...          ...      ...    ...   \n",
       "1015327  New York City           Bronx       1168.0  0 to 17      F   \n",
       "1025529  New York City           Bronx       1169.0  0 to 17      F   \n",
       "1028997  New York City           Bronx       1169.0  0 to 17      F   \n",
       "1035973  New York City           Bronx       1169.0  0 to 17      F   \n",
       "1043713  New York City           Bronx       1169.0  0 to 17      M   \n",
       "\n",
       "        Cultural_group          ethnicity  Days_spend_hsptl Admission_type  \\\n",
       "1125             White  Not Span/Hispanic               2.0        Newborn   \n",
       "3086             White  Not Span/Hispanic               2.0        Newborn   \n",
       "3226             White  Not Span/Hispanic               2.0        Newborn   \n",
       "4209             White  Not Span/Hispanic               2.0        Newborn   \n",
       "4234             White  Not Span/Hispanic               2.0        Newborn   \n",
       "...                ...                ...               ...            ...   \n",
       "1015327     Other Race  Not Span/Hispanic               2.0        Newborn   \n",
       "1025529     Other Race   Spanish/Hispanic               2.0       Elective   \n",
       "1028997     Other Race   Spanish/Hispanic               2.0       Elective   \n",
       "1035973     Other Race   Spanish/Hispanic               2.0       Elective   \n",
       "1043713     Other Race   Spanish/Hispanic              10.0      Emergency   \n",
       "\n",
       "        Home or self care,  ...  Mortality risk  Surg_Description Weight_baby  \\\n",
       "1125     Home or Self Care  ...             1.0           Medical        3700   \n",
       "3086     Home or Self Care  ...             1.0           Medical        3600   \n",
       "3226     Home or Self Care  ...             1.0           Medical        2700   \n",
       "4209     Home or Self Care  ...             1.0           Medical        2700   \n",
       "4234     Home or Self Care  ...             1.0           Medical        2800   \n",
       "...                    ...  ...             ...               ...         ...   \n",
       "1015327  Home or Self Care  ...             1.0           Medical        2900   \n",
       "1025529  Home or Self Care  ...             1.0           Medical           0   \n",
       "1028997  Home or Self Care  ...             1.0           Medical           0   \n",
       "1035973  Home or Self Care  ...             1.0           Medical           0   \n",
       "1043713  Home or Self Care  ...             3.0           Medical           0   \n",
       "\n",
       "         Abortion  Emergency dept_yes/No Tot_charg  Tot_cost  \\\n",
       "1125            N                      N   1678.75    737.21   \n",
       "3086            N                      N   1251.50    829.70   \n",
       "3226            N                      N   1150.50    788.65   \n",
       "4209            N                      N   1150.50    788.65   \n",
       "4234            N                      N   1150.50    788.65   \n",
       "...           ...                    ...       ...       ...   \n",
       "1015327         N                      N   5955.85   1303.62   \n",
       "1025529         N                      N  12500.00   2960.11   \n",
       "1028997         N                      N  12557.00   2963.40   \n",
       "1035973         N                      N  12500.00   2960.11   \n",
       "1043713         N                      Y  65223.50  19853.07   \n",
       "\n",
       "        ratio_of_total_costs_to_total_charges Result  Payment_Typology  \n",
       "1125                                 0.439141      1                 1  \n",
       "3086                                 0.662961      0                 1  \n",
       "3226                                 0.685486      1                 1  \n",
       "4209                                 0.685486      1                 1  \n",
       "4234                                 0.685486      0                 1  \n",
       "...                                       ...    ...               ...  \n",
       "1015327                              0.218881      1                 3  \n",
       "1025529                              0.236809      1                 3  \n",
       "1028997                              0.235996      1                 2  \n",
       "1035973                              0.236809      1                 3  \n",
       "1043713                              0.304385      0                 3  \n",
       "\n",
       "[4812 rows x 24 columns]"
      ]
     },
     "execution_count": 9,
     "metadata": {},
     "output_type": "execute_result"
    }
   ],
   "source": [
    "df_copy[df_copy.duplicated()]"
   ]
  },
  {
   "cell_type": "code",
   "execution_count": 8,
   "id": "5ab13aa7",
   "metadata": {},
   "outputs": [],
   "source": [
    "# deleting all duplicated rows \n",
    "\n",
    "df_copy=df_copy.drop_duplicates()"
   ]
  },
  {
   "cell_type": "code",
   "execution_count": 9,
   "id": "06f28b12",
   "metadata": {},
   "outputs": [
    {
     "data": {
      "text/plain": [
       "(0, 24)"
      ]
     },
     "execution_count": 9,
     "metadata": {},
     "output_type": "execute_result"
    }
   ],
   "source": [
    "# verify the duplicated rows have been droped or not .\n",
    "df_copy[df_copy.duplicated()].shape"
   ]
  },
  {
   "cell_type": "raw",
   "id": "8721dd5c",
   "metadata": {},
   "source": [
    "we have 0 duplicated rows"
   ]
  },
  {
   "cell_type": "code",
   "execution_count": 21,
   "id": "b899eb37",
   "metadata": {},
   "outputs": [
    {
     "data": {
      "text/plain": [
       "(1040503, 24)"
      ]
     },
     "execution_count": 21,
     "metadata": {},
     "output_type": "execute_result"
    }
   ],
   "source": [
    "df_copy.shape"
   ]
  },
  {
   "cell_type": "code",
   "execution_count": 22,
   "id": "a30dcdd8",
   "metadata": {},
   "outputs": [
    {
     "data": {
      "text/plain": [
       "(1048575, 24)"
      ]
     },
     "execution_count": 22,
     "metadata": {},
     "output_type": "execute_result"
    }
   ],
   "source": [
    "df.shape"
   ]
  },
  {
   "cell_type": "raw",
   "id": "cdec7746",
   "metadata": {},
   "source": [
    "Till here we are done with the checking for below list.\n",
    "\n",
    "-- Data Types \n",
    "-- NULL values\n",
    "-- Duplicate records"
   ]
  },
  {
   "cell_type": "code",
   "execution_count": 23,
   "id": "e30a4c0e",
   "metadata": {},
   "outputs": [
    {
     "data": {
      "text/plain": [
       "Area_Service                             0\n",
       "Hospital County                          0\n",
       "Hospital Id                              0\n",
       "Age                                      0\n",
       "Gender                                   0\n",
       "Cultural_group                           0\n",
       "ethnicity                                0\n",
       "Days_spend_hsptl                         0\n",
       "Admission_type                           0\n",
       "Home or self care,                       0\n",
       "ccs_diagnosis_code                       0\n",
       "ccs_procedure_code                       0\n",
       "apr_drg_description                      0\n",
       "Code_illness                             0\n",
       "Mortality risk                           0\n",
       "Surg_Description                         0\n",
       "Weight_baby                              0\n",
       "Abortion                                 0\n",
       "Emergency dept_yes/No                    0\n",
       "Tot_charg                                0\n",
       "Tot_cost                                 0\n",
       "ratio_of_total_costs_to_total_charges    0\n",
       "Result                                   0\n",
       "Payment_Typology                         0\n",
       "dtype: int64"
      ]
     },
     "execution_count": 23,
     "metadata": {},
     "output_type": "execute_result"
    }
   ],
   "source": [
    "df_copy.isna().sum()"
   ]
  },
  {
   "cell_type": "code",
   "execution_count": null,
   "id": "efebe59a",
   "metadata": {},
   "outputs": [],
   "source": []
  },
  {
   "cell_type": "markdown",
   "id": "1f0d442a",
   "metadata": {},
   "source": [
    "#### Let's have a look on dataset weather it is balanced or imbalanced dataset"
   ]
  },
  {
   "cell_type": "code",
   "execution_count": 10,
   "id": "3fcf7b32",
   "metadata": {},
   "outputs": [
    {
     "data": {
      "text/plain": [
       "Result\n",
       "1         779799\n",
       "0         260704\n",
       "dtype: int64"
      ]
     },
     "execution_count": 10,
     "metadata": {},
     "output_type": "execute_result"
    }
   ],
   "source": [
    "df_copy[['Result']].value_counts()"
   ]
  },
  {
   "cell_type": "raw",
   "id": "9346d5ee",
   "metadata": {},
   "source": [
    " we have total 7,79,799 no of geniune cases in our records and 260704 no of Fraudulent cases"
   ]
  },
  {
   "cell_type": "code",
   "execution_count": 11,
   "id": "c02b2dd0",
   "metadata": {},
   "outputs": [],
   "source": [
    "import warnings\n",
    "warnings.filterwarnings(\"ignore\")"
   ]
  },
  {
   "cell_type": "code",
   "execution_count": 12,
   "id": "7a871990",
   "metadata": {},
   "outputs": [
    {
     "data": {
      "image/png": "[encoded data removed]",
      "text/plain": [
       "<Figure size 432x288 with 1 Axes>"
      ]
     },
     "metadata": {
      "needs_background": "light"
     },
     "output_type": "display_data"
    }
   ],
   "source": [
    "plt.subplots(figsize=(6,4))\n",
    "sns.countplot(df_copy.Result)\n",
    "sns.set_theme(style=\"darkgrid\")\n",
    "plt.title('Checking the dataset balanced or not',fontsize=20)\n",
    "plt.show()"
   ]
  },
  {
   "cell_type": "raw",
   "id": "93a80000",
   "metadata": {},
   "source": [
    "above we observed that the dataset is imbalanced dataset \n",
    "\n",
    "here '0' is for Fraud claimant and '1' is for geniune claimant \n",
    "our data holds the majority of geniune claimant in dataset."
   ]
  },
  {
   "cell_type": "markdown",
   "id": "29aad3bd",
   "metadata": {},
   "source": [
    "###  Checking for Outliers "
   ]
  },
  {
   "cell_type": "code",
   "execution_count": 27,
   "id": "a782ab0a",
   "metadata": {},
   "outputs": [
    {
     "data": {
      "text/plain": [
       "<AxesSubplot:>"
      ]
     },
     "execution_count": 27,
     "metadata": {},
     "output_type": "execute_result"
    },
    {
     "data": {
      "image/png": "[encoded data removed]",
      "text/plain": [
       "<Figure size 432x288 with 1 Axes>"
      ]
     },
     "metadata": {},
     "output_type": "display_data"
    }
   ],
   "source": [
    "df_copy['Weight_baby'].hist()"
   ]
  },
  {
   "cell_type": "code",
   "execution_count": 28,
   "id": "c73ce52e",
   "metadata": {},
   "outputs": [
    {
     "data": {
      "text/plain": [
       "<AxesSubplot:>"
      ]
     },
     "execution_count": 28,
     "metadata": {},
     "output_type": "execute_result"
    },
    {
     "data": {
      "image/png": "[encoded data removed]",
      "text/plain": [
       "<Figure size 432x288 with 1 Axes>"
      ]
     },
     "metadata": {},
     "output_type": "display_data"
    }
   ],
   "source": [
    "df_copy.boxplot(column='Weight_baby')"
   ]
  },
  {
   "cell_type": "code",
   "execution_count": 29,
   "id": "c1d96483",
   "metadata": {},
   "outputs": [
    {
     "data": {
      "text/html": [
       "<div>\n",
       "<style scoped>\n",
       "    .dataframe tbody tr th:only-of-type {\n",
       "        vertical-align: middle;\n",
       "    }\n",
       "\n",
       "    .dataframe tbody tr th {\n",
       "        vertical-align: top;\n",
       "    }\n",
       "\n",
       "    .dataframe thead th {\n",
       "        text-align: right;\n",
       "    }\n",
       "</style>\n",
       "<table border=\"1\" class=\"dataframe\">\n",
       "  <thead>\n",
       "    <tr style=\"text-align: right;\">\n",
       "      <th></th>\n",
       "      <th>Weight_baby</th>\n",
       "    </tr>\n",
       "  </thead>\n",
       "  <tbody>\n",
       "    <tr>\n",
       "      <th>count</th>\n",
       "      <td>1.040503e+06</td>\n",
       "    </tr>\n",
       "    <tr>\n",
       "      <th>mean</th>\n",
       "      <td>2.822995e+02</td>\n",
       "    </tr>\n",
       "    <tr>\n",
       "      <th>std</th>\n",
       "      <td>9.326911e+02</td>\n",
       "    </tr>\n",
       "    <tr>\n",
       "      <th>min</th>\n",
       "      <td>0.000000e+00</td>\n",
       "    </tr>\n",
       "    <tr>\n",
       "      <th>25%</th>\n",
       "      <td>0.000000e+00</td>\n",
       "    </tr>\n",
       "    <tr>\n",
       "      <th>50%</th>\n",
       "      <td>0.000000e+00</td>\n",
       "    </tr>\n",
       "    <tr>\n",
       "      <th>75%</th>\n",
       "      <td>0.000000e+00</td>\n",
       "    </tr>\n",
       "    <tr>\n",
       "      <th>max</th>\n",
       "      <td>9.000000e+03</td>\n",
       "    </tr>\n",
       "  </tbody>\n",
       "</table>\n",
       "</div>"
      ],
      "text/plain": [
       "        Weight_baby\n",
       "count  1.040503e+06\n",
       "mean   2.822995e+02\n",
       "std    9.326911e+02\n",
       "min    0.000000e+00\n",
       "25%    0.000000e+00\n",
       "50%    0.000000e+00\n",
       "75%    0.000000e+00\n",
       "max    9.000000e+03"
      ]
     },
     "execution_count": 29,
     "metadata": {},
     "output_type": "execute_result"
    }
   ],
   "source": [
    "df_copy[['Weight_baby']].describe()"
   ]
  },
  {
   "cell_type": "code",
   "execution_count": 30,
   "id": "671bad07",
   "metadata": {},
   "outputs": [
    {
     "data": {
      "text/plain": [
       "<AxesSubplot:>"
      ]
     },
     "execution_count": 30,
     "metadata": {},
     "output_type": "execute_result"
    },
    {
     "data": {
      "image/png": "[encoded data removed]",
      "text/plain": [
       "<Figure size 432x288 with 1 Axes>"
      ]
     },
     "metadata": {},
     "output_type": "display_data"
    }
   ],
   "source": [
    "df_copy['Mortality risk'].hist()"
   ]
  },
  {
   "cell_type": "code",
   "execution_count": 31,
   "id": "e200db17",
   "metadata": {},
   "outputs": [
    {
     "data": {
      "text/plain": [
       "<AxesSubplot:>"
      ]
     },
     "execution_count": 31,
     "metadata": {},
     "output_type": "execute_result"
    },
    {
     "data": {
      "image/png": "[encoded data removed]",
      "text/plain": [
       "<Figure size 432x288 with 1 Axes>"
      ]
     },
     "metadata": {},
     "output_type": "display_data"
    }
   ],
   "source": [
    "df_copy.boxplot(column='Mortality risk')"
   ]
  },
  {
   "cell_type": "code",
   "execution_count": 32,
   "id": "86d997d0",
   "metadata": {},
   "outputs": [
    {
     "name": "stdout",
     "output_type": "stream",
     "text": [
      "<class 'pandas.core.frame.DataFrame'>\n",
      "Int64Index: 1040503 entries, 0 to 1048574\n",
      "Data columns (total 24 columns):\n",
      " #   Column                                 Non-Null Count    Dtype  \n",
      "---  ------                                 --------------    -----  \n",
      " 0   Area_Service                           1040503 non-null  object \n",
      " 1   Hospital County                        1040503 non-null  object \n",
      " 2   Hospital Id                            1040503 non-null  float64\n",
      " 3   Age                                    1040503 non-null  object \n",
      " 4   Gender                                 1040503 non-null  object \n",
      " 5   Cultural_group                         1040503 non-null  object \n",
      " 6   ethnicity                              1040503 non-null  object \n",
      " 7   Days_spend_hsptl                       1040503 non-null  float64\n",
      " 8   Admission_type                         1040503 non-null  object \n",
      " 9   Home or self care,                     1040503 non-null  object \n",
      " 10  ccs_diagnosis_code                     1040503 non-null  int64  \n",
      " 11  ccs_procedure_code                     1040503 non-null  int64  \n",
      " 12  apr_drg_description                    1040503 non-null  object \n",
      " 13  Code_illness                           1040503 non-null  int64  \n",
      " 14  Mortality risk                         1040503 non-null  float64\n",
      " 15  Surg_Description                       1040503 non-null  object \n",
      " 16  Weight_baby                            1040503 non-null  int64  \n",
      " 17  Abortion                               1040503 non-null  object \n",
      " 18  Emergency dept_yes/No                  1040503 non-null  object \n",
      " 19  Tot_charg                              1040503 non-null  float64\n",
      " 20  Tot_cost                               1040503 non-null  float64\n",
      " 21  ratio_of_total_costs_to_total_charges  1040503 non-null  float64\n",
      " 22  Result                                 1040503 non-null  int64  \n",
      " 23  Payment_Typology                       1040503 non-null  int64  \n",
      "dtypes: float64(6), int64(6), object(12)\n",
      "memory usage: 198.5+ MB\n"
     ]
    }
   ],
   "source": [
    "df_copy.info()"
   ]
  },
  {
   "cell_type": "code",
   "execution_count": 33,
   "id": "2ab9987a",
   "metadata": {},
   "outputs": [
    {
     "data": {
      "text/plain": [
       "<AxesSubplot:>"
      ]
     },
     "execution_count": 33,
     "metadata": {},
     "output_type": "execute_result"
    },
    {
     "data": {
      "image/png": "[encoded data removed]",
      "text/plain": [
       "<Figure size 432x288 with 1 Axes>"
      ]
     },
     "metadata": {},
     "output_type": "display_data"
    }
   ],
   "source": [
    "df_copy.boxplot(column='Days_spend_hsptl')"
   ]
  },
  {
   "cell_type": "code",
   "execution_count": 34,
   "id": "522ce797",
   "metadata": {},
   "outputs": [
    {
     "data": {
      "text/plain": [
       "<AxesSubplot:>"
      ]
     },
     "execution_count": 34,
     "metadata": {},
     "output_type": "execute_result"
    },
    {
     "data": {
      "image/png": "[encoded data removed]",
      "text/plain": [
       "<Figure size 432x288 with 1 Axes>"
      ]
     },
     "metadata": {},
     "output_type": "display_data"
    }
   ],
   "source": [
    "df_copy['Days_spend_hsptl'].hist()"
   ]
  },
  {
   "cell_type": "code",
   "execution_count": 35,
   "id": "fe9a72a4",
   "metadata": {},
   "outputs": [
    {
     "data": {
      "text/html": [
       "<div>\n",
       "<style scoped>\n",
       "    .dataframe tbody tr th:only-of-type {\n",
       "        vertical-align: middle;\n",
       "    }\n",
       "\n",
       "    .dataframe tbody tr th {\n",
       "        vertical-align: top;\n",
       "    }\n",
       "\n",
       "    .dataframe thead th {\n",
       "        text-align: right;\n",
       "    }\n",
       "</style>\n",
       "<table border=\"1\" class=\"dataframe\">\n",
       "  <thead>\n",
       "    <tr style=\"text-align: right;\">\n",
       "      <th></th>\n",
       "      <th>Area_Service</th>\n",
       "      <th>Hospital County</th>\n",
       "      <th>Hospital Id</th>\n",
       "      <th>Age</th>\n",
       "      <th>Gender</th>\n",
       "      <th>Cultural_group</th>\n",
       "      <th>ethnicity</th>\n",
       "      <th>Days_spend_hsptl</th>\n",
       "      <th>Admission_type</th>\n",
       "      <th>Home or self care,</th>\n",
       "      <th>...</th>\n",
       "      <th>Mortality risk</th>\n",
       "      <th>Surg_Description</th>\n",
       "      <th>Weight_baby</th>\n",
       "      <th>Abortion</th>\n",
       "      <th>Emergency dept_yes/No</th>\n",
       "      <th>Tot_charg</th>\n",
       "      <th>Tot_cost</th>\n",
       "      <th>ratio_of_total_costs_to_total_charges</th>\n",
       "      <th>Result</th>\n",
       "      <th>Payment_Typology</th>\n",
       "    </tr>\n",
       "  </thead>\n",
       "  <tbody>\n",
       "    <tr>\n",
       "      <th>0</th>\n",
       "      <td>Western NY</td>\n",
       "      <td>Allegany</td>\n",
       "      <td>37.0</td>\n",
       "      <td>30 to 49</td>\n",
       "      <td>F</td>\n",
       "      <td>White</td>\n",
       "      <td>Not Span/Hispanic</td>\n",
       "      <td>4.0</td>\n",
       "      <td>Elective</td>\n",
       "      <td>Home or Self Care</td>\n",
       "      <td>...</td>\n",
       "      <td>1.0</td>\n",
       "      <td>Medical</td>\n",
       "      <td>0</td>\n",
       "      <td>N</td>\n",
       "      <td>Y</td>\n",
       "      <td>5511.95</td>\n",
       "      <td>5582.49</td>\n",
       "      <td>1.012798</td>\n",
       "      <td>1</td>\n",
       "      <td>1</td>\n",
       "    </tr>\n",
       "    <tr>\n",
       "      <th>1</th>\n",
       "      <td>Western NY</td>\n",
       "      <td>Allegany</td>\n",
       "      <td>37.0</td>\n",
       "      <td>70 or Older</td>\n",
       "      <td>F</td>\n",
       "      <td>White</td>\n",
       "      <td>Not Span/Hispanic</td>\n",
       "      <td>4.0</td>\n",
       "      <td>Urgent</td>\n",
       "      <td>Short-term Hospital</td>\n",
       "      <td>...</td>\n",
       "      <td>2.0</td>\n",
       "      <td>Medical</td>\n",
       "      <td>0</td>\n",
       "      <td>N</td>\n",
       "      <td>Y</td>\n",
       "      <td>4783.20</td>\n",
       "      <td>5162.82</td>\n",
       "      <td>1.079365</td>\n",
       "      <td>1</td>\n",
       "      <td>1</td>\n",
       "    </tr>\n",
       "    <tr>\n",
       "      <th>2</th>\n",
       "      <td>Western NY</td>\n",
       "      <td>Allegany</td>\n",
       "      <td>37.0</td>\n",
       "      <td>30 to 49</td>\n",
       "      <td>F</td>\n",
       "      <td>White</td>\n",
       "      <td>Not Span/Hispanic</td>\n",
       "      <td>3.0</td>\n",
       "      <td>Urgent</td>\n",
       "      <td>Home or Self Care</td>\n",
       "      <td>...</td>\n",
       "      <td>1.0</td>\n",
       "      <td>Medical</td>\n",
       "      <td>0</td>\n",
       "      <td>N</td>\n",
       "      <td>Y</td>\n",
       "      <td>3829.15</td>\n",
       "      <td>4056.52</td>\n",
       "      <td>1.059379</td>\n",
       "      <td>1</td>\n",
       "      <td>1</td>\n",
       "    </tr>\n",
       "    <tr>\n",
       "      <th>3</th>\n",
       "      <td>Western NY</td>\n",
       "      <td>Allegany</td>\n",
       "      <td>37.0</td>\n",
       "      <td>0 to 17</td>\n",
       "      <td>F</td>\n",
       "      <td>White</td>\n",
       "      <td>Not Span/Hispanic</td>\n",
       "      <td>1.0</td>\n",
       "      <td>Urgent</td>\n",
       "      <td>Home or Self Care</td>\n",
       "      <td>...</td>\n",
       "      <td>1.0</td>\n",
       "      <td>Medical</td>\n",
       "      <td>0</td>\n",
       "      <td>N</td>\n",
       "      <td>Y</td>\n",
       "      <td>1108.20</td>\n",
       "      <td>1644.75</td>\n",
       "      <td>1.484167</td>\n",
       "      <td>0</td>\n",
       "      <td>1</td>\n",
       "    </tr>\n",
       "    <tr>\n",
       "      <th>4</th>\n",
       "      <td>Western NY</td>\n",
       "      <td>Allegany</td>\n",
       "      <td>37.0</td>\n",
       "      <td>70 or Older</td>\n",
       "      <td>F</td>\n",
       "      <td>White</td>\n",
       "      <td>Not Span/Hispanic</td>\n",
       "      <td>3.0</td>\n",
       "      <td>Elective</td>\n",
       "      <td>Home or Self Care</td>\n",
       "      <td>...</td>\n",
       "      <td>3.0</td>\n",
       "      <td>Medical</td>\n",
       "      <td>0</td>\n",
       "      <td>N</td>\n",
       "      <td>Y</td>\n",
       "      <td>3418.18</td>\n",
       "      <td>3370.87</td>\n",
       "      <td>0.986161</td>\n",
       "      <td>1</td>\n",
       "      <td>1</td>\n",
       "    </tr>\n",
       "  </tbody>\n",
       "</table>\n",
       "<p>5 rows × 24 columns</p>\n",
       "</div>"
      ],
      "text/plain": [
       "  Area_Service Hospital County  Hospital Id          Age Gender  \\\n",
       "0   Western NY        Allegany         37.0     30 to 49      F   \n",
       "1   Western NY        Allegany         37.0  70 or Older      F   \n",
       "2   Western NY        Allegany         37.0     30 to 49      F   \n",
       "3   Western NY        Allegany         37.0      0 to 17      F   \n",
       "4   Western NY        Allegany         37.0  70 or Older      F   \n",
       "\n",
       "  Cultural_group          ethnicity  Days_spend_hsptl Admission_type  \\\n",
       "0          White  Not Span/Hispanic               4.0       Elective   \n",
       "1          White  Not Span/Hispanic               4.0         Urgent   \n",
       "2          White  Not Span/Hispanic               3.0         Urgent   \n",
       "3          White  Not Span/Hispanic               1.0         Urgent   \n",
       "4          White  Not Span/Hispanic               3.0       Elective   \n",
       "\n",
       "    Home or self care,  ...  Mortality risk  Surg_Description Weight_baby  \\\n",
       "0    Home or Self Care  ...             1.0           Medical           0   \n",
       "1  Short-term Hospital  ...             2.0           Medical           0   \n",
       "2    Home or Self Care  ...             1.0           Medical           0   \n",
       "3    Home or Self Care  ...             1.0           Medical           0   \n",
       "4    Home or Self Care  ...             3.0           Medical           0   \n",
       "\n",
       "   Abortion  Emergency dept_yes/No Tot_charg  Tot_cost  \\\n",
       "0         N                      Y   5511.95   5582.49   \n",
       "1         N                      Y   4783.20   5162.82   \n",
       "2         N                      Y   3829.15   4056.52   \n",
       "3         N                      Y   1108.20   1644.75   \n",
       "4         N                      Y   3418.18   3370.87   \n",
       "\n",
       "  ratio_of_total_costs_to_total_charges Result  Payment_Typology  \n",
       "0                              1.012798      1                 1  \n",
       "1                              1.079365      1                 1  \n",
       "2                              1.059379      1                 1  \n",
       "3                              1.484167      0                 1  \n",
       "4                              0.986161      1                 1  \n",
       "\n",
       "[5 rows x 24 columns]"
      ]
     },
     "execution_count": 35,
     "metadata": {},
     "output_type": "execute_result"
    }
   ],
   "source": [
    "df_copy.head()"
   ]
  },
  {
   "cell_type": "code",
   "execution_count": 14,
   "id": "cde4fc7b",
   "metadata": {},
   "outputs": [
    {
     "data": {
      "text/html": [
       "<div>\n",
       "<style scoped>\n",
       "    .dataframe tbody tr th:only-of-type {\n",
       "        vertical-align: middle;\n",
       "    }\n",
       "\n",
       "    .dataframe tbody tr th {\n",
       "        vertical-align: top;\n",
       "    }\n",
       "\n",
       "    .dataframe thead th {\n",
       "        text-align: right;\n",
       "    }\n",
       "</style>\n",
       "<table border=\"1\" class=\"dataframe\">\n",
       "  <thead>\n",
       "    <tr style=\"text-align: right;\">\n",
       "      <th></th>\n",
       "      <th>Hospital Id</th>\n",
       "      <th>Days_spend_hsptl</th>\n",
       "      <th>ccs_diagnosis_code</th>\n",
       "      <th>ccs_procedure_code</th>\n",
       "      <th>Code_illness</th>\n",
       "      <th>Mortality risk</th>\n",
       "      <th>Weight_baby</th>\n",
       "      <th>Tot_charg</th>\n",
       "      <th>Tot_cost</th>\n",
       "      <th>ratio_of_total_costs_to_total_charges</th>\n",
       "      <th>Result</th>\n",
       "      <th>Payment_Typology</th>\n",
       "    </tr>\n",
       "  </thead>\n",
       "  <tbody>\n",
       "    <tr>\n",
       "      <th>Hospital Id</th>\n",
       "      <td>1.000000</td>\n",
       "      <td>0.018875</td>\n",
       "      <td>0.052520</td>\n",
       "      <td>0.019372</td>\n",
       "      <td>-0.047539</td>\n",
       "      <td>-0.041656</td>\n",
       "      <td>0.039614</td>\n",
       "      <td>0.021703</td>\n",
       "      <td>0.002348</td>\n",
       "      <td>0.004917</td>\n",
       "      <td>-0.001348</td>\n",
       "      <td>0.149837</td>\n",
       "    </tr>\n",
       "    <tr>\n",
       "      <th>Days_spend_hsptl</th>\n",
       "      <td>0.018875</td>\n",
       "      <td>1.000000</td>\n",
       "      <td>0.134516</td>\n",
       "      <td>0.042486</td>\n",
       "      <td>0.339199</td>\n",
       "      <td>0.220964</td>\n",
       "      <td>-0.092039</td>\n",
       "      <td>0.659493</td>\n",
       "      <td>0.581599</td>\n",
       "      <td>0.001215</td>\n",
       "      <td>-0.000455</td>\n",
       "      <td>0.061601</td>\n",
       "    </tr>\n",
       "    <tr>\n",
       "      <th>ccs_diagnosis_code</th>\n",
       "      <td>0.052520</td>\n",
       "      <td>0.134516</td>\n",
       "      <td>1.000000</td>\n",
       "      <td>0.051520</td>\n",
       "      <td>-0.182090</td>\n",
       "      <td>-0.269374</td>\n",
       "      <td>0.034991</td>\n",
       "      <td>-0.090601</td>\n",
       "      <td>-0.050157</td>\n",
       "      <td>0.030638</td>\n",
       "      <td>0.000348</td>\n",
       "      <td>-0.075379</td>\n",
       "    </tr>\n",
       "    <tr>\n",
       "      <th>ccs_procedure_code</th>\n",
       "      <td>0.019372</td>\n",
       "      <td>0.042486</td>\n",
       "      <td>0.051520</td>\n",
       "      <td>1.000000</td>\n",
       "      <td>0.013376</td>\n",
       "      <td>-0.035099</td>\n",
       "      <td>0.117294</td>\n",
       "      <td>0.029427</td>\n",
       "      <td>0.037340</td>\n",
       "      <td>0.017513</td>\n",
       "      <td>-0.000464</td>\n",
       "      <td>-0.050919</td>\n",
       "    </tr>\n",
       "    <tr>\n",
       "      <th>Code_illness</th>\n",
       "      <td>-0.047539</td>\n",
       "      <td>0.339199</td>\n",
       "      <td>-0.182090</td>\n",
       "      <td>0.013376</td>\n",
       "      <td>1.000000</td>\n",
       "      <td>0.635158</td>\n",
       "      <td>-0.262574</td>\n",
       "      <td>0.317745</td>\n",
       "      <td>0.258707</td>\n",
       "      <td>-0.033888</td>\n",
       "      <td>0.002122</td>\n",
       "      <td>0.155990</td>\n",
       "    </tr>\n",
       "    <tr>\n",
       "      <th>Mortality risk</th>\n",
       "      <td>-0.041656</td>\n",
       "      <td>0.220964</td>\n",
       "      <td>-0.269374</td>\n",
       "      <td>-0.035099</td>\n",
       "      <td>0.635158</td>\n",
       "      <td>1.000000</td>\n",
       "      <td>-0.217611</td>\n",
       "      <td>0.244075</td>\n",
       "      <td>0.191403</td>\n",
       "      <td>-0.036963</td>\n",
       "      <td>0.002498</td>\n",
       "      <td>0.182316</td>\n",
       "    </tr>\n",
       "    <tr>\n",
       "      <th>Weight_baby</th>\n",
       "      <td>0.039614</td>\n",
       "      <td>-0.092039</td>\n",
       "      <td>0.034991</td>\n",
       "      <td>0.117294</td>\n",
       "      <td>-0.262574</td>\n",
       "      <td>-0.217611</td>\n",
       "      <td>1.000000</td>\n",
       "      <td>-0.115535</td>\n",
       "      <td>-0.107358</td>\n",
       "      <td>0.018405</td>\n",
       "      <td>-0.003762</td>\n",
       "      <td>-0.120195</td>\n",
       "    </tr>\n",
       "    <tr>\n",
       "      <th>Tot_charg</th>\n",
       "      <td>0.021703</td>\n",
       "      <td>0.659493</td>\n",
       "      <td>-0.090601</td>\n",
       "      <td>0.029427</td>\n",
       "      <td>0.317745</td>\n",
       "      <td>0.244075</td>\n",
       "      <td>-0.115535</td>\n",
       "      <td>1.000000</td>\n",
       "      <td>0.684533</td>\n",
       "      <td>-0.048891</td>\n",
       "      <td>-0.000397</td>\n",
       "      <td>0.093527</td>\n",
       "    </tr>\n",
       "    <tr>\n",
       "      <th>Tot_cost</th>\n",
       "      <td>0.002348</td>\n",
       "      <td>0.581599</td>\n",
       "      <td>-0.050157</td>\n",
       "      <td>0.037340</td>\n",
       "      <td>0.258707</td>\n",
       "      <td>0.191403</td>\n",
       "      <td>-0.107358</td>\n",
       "      <td>0.684533</td>\n",
       "      <td>1.000000</td>\n",
       "      <td>0.467979</td>\n",
       "      <td>-0.000995</td>\n",
       "      <td>0.061890</td>\n",
       "    </tr>\n",
       "    <tr>\n",
       "      <th>ratio_of_total_costs_to_total_charges</th>\n",
       "      <td>0.004917</td>\n",
       "      <td>0.001215</td>\n",
       "      <td>0.030638</td>\n",
       "      <td>0.017513</td>\n",
       "      <td>-0.033888</td>\n",
       "      <td>-0.036963</td>\n",
       "      <td>0.018405</td>\n",
       "      <td>-0.048891</td>\n",
       "      <td>0.467979</td>\n",
       "      <td>1.000000</td>\n",
       "      <td>0.000468</td>\n",
       "      <td>-0.034703</td>\n",
       "    </tr>\n",
       "    <tr>\n",
       "      <th>Result</th>\n",
       "      <td>-0.001348</td>\n",
       "      <td>-0.000455</td>\n",
       "      <td>0.000348</td>\n",
       "      <td>-0.000464</td>\n",
       "      <td>0.002122</td>\n",
       "      <td>0.002498</td>\n",
       "      <td>-0.003762</td>\n",
       "      <td>-0.000397</td>\n",
       "      <td>-0.000995</td>\n",
       "      <td>0.000468</td>\n",
       "      <td>1.000000</td>\n",
       "      <td>0.001360</td>\n",
       "    </tr>\n",
       "    <tr>\n",
       "      <th>Payment_Typology</th>\n",
       "      <td>0.149837</td>\n",
       "      <td>0.061601</td>\n",
       "      <td>-0.075379</td>\n",
       "      <td>-0.050919</td>\n",
       "      <td>0.155990</td>\n",
       "      <td>0.182316</td>\n",
       "      <td>-0.120195</td>\n",
       "      <td>0.093527</td>\n",
       "      <td>0.061890</td>\n",
       "      <td>-0.034703</td>\n",
       "      <td>0.001360</td>\n",
       "      <td>1.000000</td>\n",
       "    </tr>\n",
       "  </tbody>\n",
       "</table>\n",
       "</div>"
      ],
      "text/plain": [
       "                                       Hospital Id  Days_spend_hsptl  \\\n",
       "Hospital Id                               1.000000          0.018875   \n",
       "Days_spend_hsptl                          0.018875          1.000000   \n",
       "ccs_diagnosis_code                        0.052520          0.134516   \n",
       "ccs_procedure_code                        0.019372          0.042486   \n",
       "Code_illness                             -0.047539          0.339199   \n",
       "Mortality risk                           -0.041656          0.220964   \n",
       "Weight_baby                               0.039614         -0.092039   \n",
       "Tot_charg                                 0.021703          0.659493   \n",
       "Tot_cost                                  0.002348          0.581599   \n",
       "ratio_of_total_costs_to_total_charges     0.004917          0.001215   \n",
       "Result                                   -0.001348         -0.000455   \n",
       "Payment_Typology                          0.149837          0.061601   \n",
       "\n",
       "                                       ccs_diagnosis_code  ccs_procedure_code  \\\n",
       "Hospital Id                                      0.052520            0.019372   \n",
       "Days_spend_hsptl                                 0.134516            0.042486   \n",
       "ccs_diagnosis_code                               1.000000            0.051520   \n",
       "ccs_procedure_code                               0.051520            1.000000   \n",
       "Code_illness                                    -0.182090            0.013376   \n",
       "Mortality risk                                  -0.269374           -0.035099   \n",
       "Weight_baby                                      0.034991            0.117294   \n",
       "Tot_charg                                       -0.090601            0.029427   \n",
       "Tot_cost                                        -0.050157            0.037340   \n",
       "ratio_of_total_costs_to_total_charges            0.030638            0.017513   \n",
       "Result                                           0.000348           -0.000464   \n",
       "Payment_Typology                                -0.075379           -0.050919   \n",
       "\n",
       "                                       Code_illness  Mortality risk  \\\n",
       "Hospital Id                               -0.047539       -0.041656   \n",
       "Days_spend_hsptl                           0.339199        0.220964   \n",
       "ccs_diagnosis_code                        -0.182090       -0.269374   \n",
       "ccs_procedure_code                         0.013376       -0.035099   \n",
       "Code_illness                               1.000000        0.635158   \n",
       "Mortality risk                             0.635158        1.000000   \n",
       "Weight_baby                               -0.262574       -0.217611   \n",
       "Tot_charg                                  0.317745        0.244075   \n",
       "Tot_cost                                   0.258707        0.191403   \n",
       "ratio_of_total_costs_to_total_charges     -0.033888       -0.036963   \n",
       "Result                                     0.002122        0.002498   \n",
       "Payment_Typology                           0.155990        0.182316   \n",
       "\n",
       "                                       Weight_baby  Tot_charg  Tot_cost  \\\n",
       "Hospital Id                               0.039614   0.021703  0.002348   \n",
       "Days_spend_hsptl                         -0.092039   0.659493  0.581599   \n",
       "ccs_diagnosis_code                        0.034991  -0.090601 -0.050157   \n",
       "ccs_procedure_code                        0.117294   0.029427  0.037340   \n",
       "Code_illness                             -0.262574   0.317745  0.258707   \n",
       "Mortality risk                           -0.217611   0.244075  0.191403   \n",
       "Weight_baby                               1.000000  -0.115535 -0.107358   \n",
       "Tot_charg                                -0.115535   1.000000  0.684533   \n",
       "Tot_cost                                 -0.107358   0.684533  1.000000   \n",
       "ratio_of_total_costs_to_total_charges     0.018405  -0.048891  0.467979   \n",
       "Result                                   -0.003762  -0.000397 -0.000995   \n",
       "Payment_Typology                         -0.120195   0.093527  0.061890   \n",
       "\n",
       "                                       ratio_of_total_costs_to_total_charges  \\\n",
       "Hospital Id                                                         0.004917   \n",
       "Days_spend_hsptl                                                    0.001215   \n",
       "ccs_diagnosis_code                                                  0.030638   \n",
       "ccs_procedure_code                                                  0.017513   \n",
       "Code_illness                                                       -0.033888   \n",
       "Mortality risk                                                     -0.036963   \n",
       "Weight_baby                                                         0.018405   \n",
       "Tot_charg                                                          -0.048891   \n",
       "Tot_cost                                                            0.467979   \n",
       "ratio_of_total_costs_to_total_charges                               1.000000   \n",
       "Result                                                              0.000468   \n",
       "Payment_Typology                                                   -0.034703   \n",
       "\n",
       "                                         Result  Payment_Typology  \n",
       "Hospital Id                           -0.001348          0.149837  \n",
       "Days_spend_hsptl                      -0.000455          0.061601  \n",
       "ccs_diagnosis_code                     0.000348         -0.075379  \n",
       "ccs_procedure_code                    -0.000464         -0.050919  \n",
       "Code_illness                           0.002122          0.155990  \n",
       "Mortality risk                         0.002498          0.182316  \n",
       "Weight_baby                           -0.003762         -0.120195  \n",
       "Tot_charg                             -0.000397          0.093527  \n",
       "Tot_cost                              -0.000995          0.061890  \n",
       "ratio_of_total_costs_to_total_charges  0.000468         -0.034703  \n",
       "Result                                 1.000000          0.001360  \n",
       "Payment_Typology                       0.001360          1.000000  "
      ]
     },
     "execution_count": 14,
     "metadata": {},
     "output_type": "execute_result"
    }
   ],
   "source": [
    "df_copy.corr()"
   ]
  },
  {
   "cell_type": "raw",
   "id": "013f6761",
   "metadata": {},
   "source": [
    "Heat map of Coorelation between the fields"
   ]
  },
  {
   "cell_type": "code",
   "execution_count": 18,
   "id": "fef62d33",
   "metadata": {},
   "outputs": [
    {
     "data": {
      "image/png": "[encoded data removed]",
      "text/plain": [
       "<Figure size 432x288 with 2 Axes>"
      ]
     },
     "metadata": {},
     "output_type": "display_data"
    }
   ],
   "source": [
    "corr=df_copy.corr()\n",
    "sns.heatmap(corr)\n",
    "plt.show()"
   ]
  },
  {
   "cell_type": "code",
   "execution_count": 37,
   "id": "6c1b796d",
   "metadata": {},
   "outputs": [
    {
     "name": "stdout",
     "output_type": "stream",
     "text": [
      "<class 'pandas.core.frame.DataFrame'>\n",
      "Int64Index: 1040503 entries, 0 to 1048574\n",
      "Data columns (total 1 columns):\n",
      " #   Column            Non-Null Count    Dtype\n",
      "---  ------            --------------    -----\n",
      " 0   Days_spend_hsptl  1040503 non-null  int64\n",
      "dtypes: int64(1)\n",
      "memory usage: 15.9 MB\n"
     ]
    },
    {
     "data": {
      "text/plain": [
       "None"
      ]
     },
     "metadata": {},
     "output_type": "display_data"
    }
   ],
   "source": [
    "df_copy['Days_spend_hsptl']=df_copy[['Days_spend_hsptl']].astype(np.int64)\n",
    "display(df_copy[['Days_spend_hsptl']].info())"
   ]
  },
  {
   "cell_type": "code",
   "execution_count": 1,
   "id": "e737a293",
   "metadata": {},
   "outputs": [
    {
     "ename": "NameError",
     "evalue": "name 'df_copy' is not defined",
     "output_type": "error",
     "traceback": [
      "\u001b[1;31m---------------------------------------------------------------------------\u001b[0m",
      "\u001b[1;31mNameError\u001b[0m                                 Traceback (most recent call last)",
      "\u001b[1;32m~\\AppData\\Local\\Temp/ipykernel_1620/2124694424.py\u001b[0m in \u001b[0;36m<module>\u001b[1;34m\u001b[0m\n\u001b[1;32m----> 1\u001b[1;33m \u001b[0mdisplay\u001b[0m\u001b[1;33m(\u001b[0m\u001b[0mdf_copy\u001b[0m\u001b[1;33m[\u001b[0m\u001b[1;33m[\u001b[0m\u001b[1;34m'Days_spend_hsptl'\u001b[0m\u001b[1;33m]\u001b[0m\u001b[1;33m]\u001b[0m\u001b[1;33m.\u001b[0m\u001b[0mdescribe\u001b[0m\u001b[1;33m(\u001b[0m\u001b[1;33m)\u001b[0m\u001b[1;33m)\u001b[0m\u001b[1;33m\u001b[0m\u001b[1;33m\u001b[0m\u001b[0m\n\u001b[0m\u001b[0;32m      2\u001b[0m \u001b[0mprint\u001b[0m\u001b[1;33m(\u001b[0m\u001b[1;34m'Maximum'\u001b[0m\u001b[1;33m)\u001b[0m\u001b[1;33m\u001b[0m\u001b[1;33m\u001b[0m\u001b[0m\n\u001b[0;32m      3\u001b[0m \u001b[0mdisplay\u001b[0m\u001b[1;33m(\u001b[0m\u001b[0mdf_copy\u001b[0m\u001b[1;33m[\u001b[0m\u001b[1;33m[\u001b[0m\u001b[1;34m'Days_spend_hsptl'\u001b[0m\u001b[1;33m]\u001b[0m\u001b[1;33m]\u001b[0m\u001b[1;33m.\u001b[0m\u001b[0mmax\u001b[0m\u001b[1;33m(\u001b[0m\u001b[1;33m)\u001b[0m\u001b[1;33m)\u001b[0m\u001b[1;33m\u001b[0m\u001b[1;33m\u001b[0m\u001b[0m\n\u001b[0;32m      4\u001b[0m \u001b[0mprint\u001b[0m\u001b[1;33m(\u001b[0m\u001b[1;34m'____Minimum____'\u001b[0m\u001b[1;33m)\u001b[0m\u001b[1;33m\u001b[0m\u001b[1;33m\u001b[0m\u001b[0m\n\u001b[0;32m      5\u001b[0m \u001b[0mdisplay\u001b[0m\u001b[1;33m(\u001b[0m\u001b[0mdf_copy\u001b[0m\u001b[1;33m[\u001b[0m\u001b[1;33m[\u001b[0m\u001b[1;34m'Days_spend_hsptl'\u001b[0m\u001b[1;33m]\u001b[0m\u001b[1;33m]\u001b[0m\u001b[1;33m.\u001b[0m\u001b[0mmin\u001b[0m\u001b[1;33m(\u001b[0m\u001b[1;33m)\u001b[0m\u001b[1;33m)\u001b[0m\u001b[1;33m\u001b[0m\u001b[1;33m\u001b[0m\u001b[0m\n",
      "\u001b[1;31mNameError\u001b[0m: name 'df_copy' is not defined"
     ]
    }
   ],
   "source": [
    "display(df_copy[['Days_spend_hsptl']].describe())\n",
    "print('Maximum')\n",
    "display(df_copy[['Days_spend_hsptl']].max())\n",
    "print('____Minimum____')\n",
    "display(df_copy[['Days_spend_hsptl']].min())\n",
    "print('Mode')\n",
    "display(df_copy[['Days_spend_hsptl']].mode())\n",
    "print('Median')\n",
    "display(df_copy[['Days_spend_hsptl']].median())\n",
    "print('Mean')\n",
    "display(df_copy[['Days_spend_hsptl']].mean())\n",
    "print(\"Count\")\n",
    "display(df_copy[['Days_spend_hsptl']].count())"
   ]
  },
  {
   "cell_type": "code",
   "execution_count": 39,
   "id": "a2656ee4",
   "metadata": {},
   "outputs": [
    {
     "data": {
      "text/plain": [
       "<AxesSubplot:>"
      ]
     },
     "execution_count": 39,
     "metadata": {},
     "output_type": "execute_result"
    },
    {
     "data": {
      "image/png": "[encoded data removed]",
      "text/plain": [
       "<Figure size 432x288 with 1 Axes>"
      ]
     },
     "metadata": {},
     "output_type": "display_data"
    }
   ],
   "source": [
    "df_copy.boxplot(column='Days_spend_hsptl')"
   ]
  },
  {
   "cell_type": "raw",
   "id": "716ef55a",
   "metadata": {},
   "source": [
    " from above analysis on column named \"Days_spend_hsptl\" we noticed that the days spend in hospital by the patients \n",
    " is minimum 1 day and maximum 119 days.\n",
    " 25% of data of days spend in hospital shows 2 days \n",
    " 50% is 3 days \n",
    " 75% is 6 days \n",
    " \n",
    " so we conclude that maximum period of stay in hospital in majority was 3 days and 6 days \n",
    " \n",
    " let's go for further analysis"
   ]
  },
  {
   "cell_type": "code",
   "execution_count": 40,
   "id": "fa60b740",
   "metadata": {},
   "outputs": [
    {
     "data": {
      "text/html": [
       "<div>\n",
       "<style scoped>\n",
       "    .dataframe tbody tr th:only-of-type {\n",
       "        vertical-align: middle;\n",
       "    }\n",
       "\n",
       "    .dataframe tbody tr th {\n",
       "        vertical-align: top;\n",
       "    }\n",
       "\n",
       "    .dataframe thead th {\n",
       "        text-align: right;\n",
       "    }\n",
       "</style>\n",
       "<table border=\"1\" class=\"dataframe\">\n",
       "  <thead>\n",
       "    <tr style=\"text-align: right;\">\n",
       "      <th></th>\n",
       "      <th>Area_Service</th>\n",
       "      <th>Hospital County</th>\n",
       "      <th>Hospital Id</th>\n",
       "      <th>Age</th>\n",
       "      <th>Gender</th>\n",
       "      <th>Cultural_group</th>\n",
       "      <th>ethnicity</th>\n",
       "      <th>Days_spend_hsptl</th>\n",
       "      <th>Admission_type</th>\n",
       "      <th>Home or self care,</th>\n",
       "      <th>...</th>\n",
       "      <th>Mortality risk</th>\n",
       "      <th>Surg_Description</th>\n",
       "      <th>Weight_baby</th>\n",
       "      <th>Abortion</th>\n",
       "      <th>Emergency dept_yes/No</th>\n",
       "      <th>Tot_charg</th>\n",
       "      <th>Tot_cost</th>\n",
       "      <th>ratio_of_total_costs_to_total_charges</th>\n",
       "      <th>Result</th>\n",
       "      <th>Payment_Typology</th>\n",
       "    </tr>\n",
       "  </thead>\n",
       "  <tbody>\n",
       "    <tr>\n",
       "      <th>0</th>\n",
       "      <td>Western NY</td>\n",
       "      <td>Allegany</td>\n",
       "      <td>37.0</td>\n",
       "      <td>30 to 49</td>\n",
       "      <td>F</td>\n",
       "      <td>White</td>\n",
       "      <td>Not Span/Hispanic</td>\n",
       "      <td>4</td>\n",
       "      <td>Elective</td>\n",
       "      <td>Home or Self Care</td>\n",
       "      <td>...</td>\n",
       "      <td>1.0</td>\n",
       "      <td>Medical</td>\n",
       "      <td>0</td>\n",
       "      <td>N</td>\n",
       "      <td>Y</td>\n",
       "      <td>5511.95</td>\n",
       "      <td>5582.49</td>\n",
       "      <td>1.012798</td>\n",
       "      <td>1</td>\n",
       "      <td>1</td>\n",
       "    </tr>\n",
       "    <tr>\n",
       "      <th>1</th>\n",
       "      <td>Western NY</td>\n",
       "      <td>Allegany</td>\n",
       "      <td>37.0</td>\n",
       "      <td>70 or Older</td>\n",
       "      <td>F</td>\n",
       "      <td>White</td>\n",
       "      <td>Not Span/Hispanic</td>\n",
       "      <td>4</td>\n",
       "      <td>Urgent</td>\n",
       "      <td>Short-term Hospital</td>\n",
       "      <td>...</td>\n",
       "      <td>2.0</td>\n",
       "      <td>Medical</td>\n",
       "      <td>0</td>\n",
       "      <td>N</td>\n",
       "      <td>Y</td>\n",
       "      <td>4783.20</td>\n",
       "      <td>5162.82</td>\n",
       "      <td>1.079365</td>\n",
       "      <td>1</td>\n",
       "      <td>1</td>\n",
       "    </tr>\n",
       "    <tr>\n",
       "      <th>2</th>\n",
       "      <td>Western NY</td>\n",
       "      <td>Allegany</td>\n",
       "      <td>37.0</td>\n",
       "      <td>30 to 49</td>\n",
       "      <td>F</td>\n",
       "      <td>White</td>\n",
       "      <td>Not Span/Hispanic</td>\n",
       "      <td>3</td>\n",
       "      <td>Urgent</td>\n",
       "      <td>Home or Self Care</td>\n",
       "      <td>...</td>\n",
       "      <td>1.0</td>\n",
       "      <td>Medical</td>\n",
       "      <td>0</td>\n",
       "      <td>N</td>\n",
       "      <td>Y</td>\n",
       "      <td>3829.15</td>\n",
       "      <td>4056.52</td>\n",
       "      <td>1.059379</td>\n",
       "      <td>1</td>\n",
       "      <td>1</td>\n",
       "    </tr>\n",
       "    <tr>\n",
       "      <th>3</th>\n",
       "      <td>Western NY</td>\n",
       "      <td>Allegany</td>\n",
       "      <td>37.0</td>\n",
       "      <td>0 to 17</td>\n",
       "      <td>F</td>\n",
       "      <td>White</td>\n",
       "      <td>Not Span/Hispanic</td>\n",
       "      <td>1</td>\n",
       "      <td>Urgent</td>\n",
       "      <td>Home or Self Care</td>\n",
       "      <td>...</td>\n",
       "      <td>1.0</td>\n",
       "      <td>Medical</td>\n",
       "      <td>0</td>\n",
       "      <td>N</td>\n",
       "      <td>Y</td>\n",
       "      <td>1108.20</td>\n",
       "      <td>1644.75</td>\n",
       "      <td>1.484167</td>\n",
       "      <td>0</td>\n",
       "      <td>1</td>\n",
       "    </tr>\n",
       "    <tr>\n",
       "      <th>4</th>\n",
       "      <td>Western NY</td>\n",
       "      <td>Allegany</td>\n",
       "      <td>37.0</td>\n",
       "      <td>70 or Older</td>\n",
       "      <td>F</td>\n",
       "      <td>White</td>\n",
       "      <td>Not Span/Hispanic</td>\n",
       "      <td>3</td>\n",
       "      <td>Elective</td>\n",
       "      <td>Home or Self Care</td>\n",
       "      <td>...</td>\n",
       "      <td>3.0</td>\n",
       "      <td>Medical</td>\n",
       "      <td>0</td>\n",
       "      <td>N</td>\n",
       "      <td>Y</td>\n",
       "      <td>3418.18</td>\n",
       "      <td>3370.87</td>\n",
       "      <td>0.986161</td>\n",
       "      <td>1</td>\n",
       "      <td>1</td>\n",
       "    </tr>\n",
       "    <tr>\n",
       "      <th>...</th>\n",
       "      <td>...</td>\n",
       "      <td>...</td>\n",
       "      <td>...</td>\n",
       "      <td>...</td>\n",
       "      <td>...</td>\n",
       "      <td>...</td>\n",
       "      <td>...</td>\n",
       "      <td>...</td>\n",
       "      <td>...</td>\n",
       "      <td>...</td>\n",
       "      <td>...</td>\n",
       "      <td>...</td>\n",
       "      <td>...</td>\n",
       "      <td>...</td>\n",
       "      <td>...</td>\n",
       "      <td>...</td>\n",
       "      <td>...</td>\n",
       "      <td>...</td>\n",
       "      <td>...</td>\n",
       "      <td>...</td>\n",
       "      <td>...</td>\n",
       "    </tr>\n",
       "    <tr>\n",
       "      <th>1048568</th>\n",
       "      <td>New York City</td>\n",
       "      <td>Bronx</td>\n",
       "      <td>1169.0</td>\n",
       "      <td>70 or Older</td>\n",
       "      <td>M</td>\n",
       "      <td>White</td>\n",
       "      <td>Not Span/Hispanic</td>\n",
       "      <td>5</td>\n",
       "      <td>Emergency</td>\n",
       "      <td>Home w/ Home Health Services</td>\n",
       "      <td>...</td>\n",
       "      <td>3.0</td>\n",
       "      <td>Medical</td>\n",
       "      <td>0</td>\n",
       "      <td>N</td>\n",
       "      <td>Y</td>\n",
       "      <td>42573.55</td>\n",
       "      <td>9196.49</td>\n",
       "      <td>0.216014</td>\n",
       "      <td>0</td>\n",
       "      <td>3</td>\n",
       "    </tr>\n",
       "    <tr>\n",
       "      <th>1048570</th>\n",
       "      <td>New York City</td>\n",
       "      <td>Bronx</td>\n",
       "      <td>1169.0</td>\n",
       "      <td>70 or Older</td>\n",
       "      <td>F</td>\n",
       "      <td>Other Race</td>\n",
       "      <td>Spanish/Hispanic</td>\n",
       "      <td>6</td>\n",
       "      <td>Emergency</td>\n",
       "      <td>Skilled Nursing Home</td>\n",
       "      <td>...</td>\n",
       "      <td>3.0</td>\n",
       "      <td>Medical</td>\n",
       "      <td>0</td>\n",
       "      <td>N</td>\n",
       "      <td>Y</td>\n",
       "      <td>69650.41</td>\n",
       "      <td>13896.82</td>\n",
       "      <td>0.199522</td>\n",
       "      <td>1</td>\n",
       "      <td>3</td>\n",
       "    </tr>\n",
       "    <tr>\n",
       "      <th>1048571</th>\n",
       "      <td>New York City</td>\n",
       "      <td>Bronx</td>\n",
       "      <td>1169.0</td>\n",
       "      <td>0 to 17</td>\n",
       "      <td>F</td>\n",
       "      <td>Other Race</td>\n",
       "      <td>Not Span/Hispanic</td>\n",
       "      <td>2</td>\n",
       "      <td>Emergency</td>\n",
       "      <td>Home or Self Care</td>\n",
       "      <td>...</td>\n",
       "      <td>1.0</td>\n",
       "      <td>Medical</td>\n",
       "      <td>0</td>\n",
       "      <td>N</td>\n",
       "      <td>N</td>\n",
       "      <td>13587.38</td>\n",
       "      <td>3918.35</td>\n",
       "      <td>0.288382</td>\n",
       "      <td>1</td>\n",
       "      <td>3</td>\n",
       "    </tr>\n",
       "    <tr>\n",
       "      <th>1048573</th>\n",
       "      <td>New York City</td>\n",
       "      <td>Bronx</td>\n",
       "      <td>1169.0</td>\n",
       "      <td>30 to 49</td>\n",
       "      <td>F</td>\n",
       "      <td>Black/African American</td>\n",
       "      <td>Not Span/Hispanic</td>\n",
       "      <td>2</td>\n",
       "      <td>Emergency</td>\n",
       "      <td>Home or Self Care</td>\n",
       "      <td>...</td>\n",
       "      <td>1.0</td>\n",
       "      <td>Surgical</td>\n",
       "      <td>0</td>\n",
       "      <td>N</td>\n",
       "      <td>Y</td>\n",
       "      <td>27521.41</td>\n",
       "      <td>6766.04</td>\n",
       "      <td>0.245846</td>\n",
       "      <td>1</td>\n",
       "      <td>3</td>\n",
       "    </tr>\n",
       "    <tr>\n",
       "      <th>1048574</th>\n",
       "      <td>New York City</td>\n",
       "      <td>Bronx</td>\n",
       "      <td>1169.0</td>\n",
       "      <td>50 to 69</td>\n",
       "      <td>M</td>\n",
       "      <td>Other Race</td>\n",
       "      <td>Spanish/Hispanic</td>\n",
       "      <td>2</td>\n",
       "      <td>Emergency</td>\n",
       "      <td>Home or Self Care</td>\n",
       "      <td>...</td>\n",
       "      <td>1.0</td>\n",
       "      <td>Medical</td>\n",
       "      <td>0</td>\n",
       "      <td>N</td>\n",
       "      <td>Y</td>\n",
       "      <td>24832.23</td>\n",
       "      <td>4974.66</td>\n",
       "      <td>0.200331</td>\n",
       "      <td>1</td>\n",
       "      <td>2</td>\n",
       "    </tr>\n",
       "  </tbody>\n",
       "</table>\n",
       "<p>816230 rows × 24 columns</p>\n",
       "</div>"
      ],
      "text/plain": [
       "          Area_Service Hospital County  Hospital Id          Age Gender  \\\n",
       "0           Western NY        Allegany         37.0     30 to 49      F   \n",
       "1           Western NY        Allegany         37.0  70 or Older      F   \n",
       "2           Western NY        Allegany         37.0     30 to 49      F   \n",
       "3           Western NY        Allegany         37.0      0 to 17      F   \n",
       "4           Western NY        Allegany         37.0  70 or Older      F   \n",
       "...                ...             ...          ...          ...    ...   \n",
       "1048568  New York City           Bronx       1169.0  70 or Older      M   \n",
       "1048570  New York City           Bronx       1169.0  70 or Older      F   \n",
       "1048571  New York City           Bronx       1169.0      0 to 17      F   \n",
       "1048573  New York City           Bronx       1169.0     30 to 49      F   \n",
       "1048574  New York City           Bronx       1169.0     50 to 69      M   \n",
       "\n",
       "                 Cultural_group          ethnicity  Days_spend_hsptl  \\\n",
       "0                         White  Not Span/Hispanic                 4   \n",
       "1                         White  Not Span/Hispanic                 4   \n",
       "2                         White  Not Span/Hispanic                 3   \n",
       "3                         White  Not Span/Hispanic                 1   \n",
       "4                         White  Not Span/Hispanic                 3   \n",
       "...                         ...                ...               ...   \n",
       "1048568                   White  Not Span/Hispanic                 5   \n",
       "1048570              Other Race   Spanish/Hispanic                 6   \n",
       "1048571              Other Race  Not Span/Hispanic                 2   \n",
       "1048573  Black/African American  Not Span/Hispanic                 2   \n",
       "1048574              Other Race   Spanish/Hispanic                 2   \n",
       "\n",
       "        Admission_type            Home or self care,  ...  Mortality risk  \\\n",
       "0             Elective             Home or Self Care  ...             1.0   \n",
       "1               Urgent           Short-term Hospital  ...             2.0   \n",
       "2               Urgent             Home or Self Care  ...             1.0   \n",
       "3               Urgent             Home or Self Care  ...             1.0   \n",
       "4             Elective             Home or Self Care  ...             3.0   \n",
       "...                ...                           ...  ...             ...   \n",
       "1048568      Emergency  Home w/ Home Health Services  ...             3.0   \n",
       "1048570      Emergency          Skilled Nursing Home  ...             3.0   \n",
       "1048571      Emergency             Home or Self Care  ...             1.0   \n",
       "1048573      Emergency             Home or Self Care  ...             1.0   \n",
       "1048574      Emergency             Home or Self Care  ...             1.0   \n",
       "\n",
       "         Surg_Description Weight_baby  Abortion  Emergency dept_yes/No  \\\n",
       "0                 Medical           0         N                      Y   \n",
       "1                 Medical           0         N                      Y   \n",
       "2                 Medical           0         N                      Y   \n",
       "3                 Medical           0         N                      Y   \n",
       "4                 Medical           0         N                      Y   \n",
       "...                   ...         ...       ...                    ...   \n",
       "1048568           Medical           0         N                      Y   \n",
       "1048570           Medical           0         N                      Y   \n",
       "1048571           Medical           0         N                      N   \n",
       "1048573          Surgical           0         N                      Y   \n",
       "1048574           Medical           0         N                      Y   \n",
       "\n",
       "        Tot_charg  Tot_cost ratio_of_total_costs_to_total_charges Result  \\\n",
       "0         5511.95   5582.49                              1.012798      1   \n",
       "1         4783.20   5162.82                              1.079365      1   \n",
       "2         3829.15   4056.52                              1.059379      1   \n",
       "3         1108.20   1644.75                              1.484167      0   \n",
       "4         3418.18   3370.87                              0.986161      1   \n",
       "...           ...       ...                                   ...    ...   \n",
       "1048568  42573.55   9196.49                              0.216014      0   \n",
       "1048570  69650.41  13896.82                              0.199522      1   \n",
       "1048571  13587.38   3918.35                              0.288382      1   \n",
       "1048573  27521.41   6766.04                              0.245846      1   \n",
       "1048574  24832.23   4974.66                              0.200331      1   \n",
       "\n",
       "         Payment_Typology  \n",
       "0                       1  \n",
       "1                       1  \n",
       "2                       1  \n",
       "3                       1  \n",
       "4                       1  \n",
       "...                   ...  \n",
       "1048568                 3  \n",
       "1048570                 3  \n",
       "1048571                 3  \n",
       "1048573                 3  \n",
       "1048574                 2  \n",
       "\n",
       "[816230 rows x 24 columns]"
      ]
     },
     "execution_count": 40,
     "metadata": {},
     "output_type": "execute_result"
    }
   ],
   "source": [
    "df_copy[df_copy['Days_spend_hsptl']<=6]"
   ]
  },
  {
   "cell_type": "raw",
   "id": "62a4bd79",
   "metadata": {},
   "source": [
    "we can notice above that among 10,48,575 patients 8,16,230 are staying in hospital only for 6 days or lesser \n",
    "and rest around 2 lakhs are staying for longer duration"
   ]
  },
  {
   "cell_type": "code",
   "execution_count": 81,
   "id": "90ba36f8",
   "metadata": {},
   "outputs": [
    {
     "data": {
      "text/html": [
       "<div>\n",
       "<style scoped>\n",
       "    .dataframe tbody tr th:only-of-type {\n",
       "        vertical-align: middle;\n",
       "    }\n",
       "\n",
       "    .dataframe tbody tr th {\n",
       "        vertical-align: top;\n",
       "    }\n",
       "\n",
       "    .dataframe thead th {\n",
       "        text-align: right;\n",
       "    }\n",
       "</style>\n",
       "<table border=\"1\" class=\"dataframe\">\n",
       "  <thead>\n",
       "    <tr style=\"text-align: right;\">\n",
       "      <th></th>\n",
       "      <th>Days_spend_hsptl</th>\n",
       "      <th>Tot_charg</th>\n",
       "      <th>Tot_cost</th>\n",
       "    </tr>\n",
       "  </thead>\n",
       "  <tbody>\n",
       "    <tr>\n",
       "      <th>11039</th>\n",
       "      <td>110</td>\n",
       "      <td>102137.54</td>\n",
       "      <td>72660.49</td>\n",
       "    </tr>\n",
       "    <tr>\n",
       "      <th>15831</th>\n",
       "      <td>115</td>\n",
       "      <td>437936.66</td>\n",
       "      <td>228531.34</td>\n",
       "    </tr>\n",
       "    <tr>\n",
       "      <th>22320</th>\n",
       "      <td>118</td>\n",
       "      <td>174076.97</td>\n",
       "      <td>76816.80</td>\n",
       "    </tr>\n",
       "    <tr>\n",
       "      <th>23770</th>\n",
       "      <td>106</td>\n",
       "      <td>509844.25</td>\n",
       "      <td>213079.94</td>\n",
       "    </tr>\n",
       "    <tr>\n",
       "      <th>23772</th>\n",
       "      <td>112</td>\n",
       "      <td>427068.38</td>\n",
       "      <td>183206.25</td>\n",
       "    </tr>\n",
       "  </tbody>\n",
       "</table>\n",
       "</div>"
      ],
      "text/plain": [
       "       Days_spend_hsptl  Tot_charg   Tot_cost\n",
       "11039               110  102137.54   72660.49\n",
       "15831               115  437936.66  228531.34\n",
       "22320               118  174076.97   76816.80\n",
       "23770               106  509844.25  213079.94\n",
       "23772               112  427068.38  183206.25"
      ]
     },
     "execution_count": 81,
     "metadata": {},
     "output_type": "execute_result"
    }
   ],
   "source": [
    "df_copy[df_copy['Days_spend_hsptl']>=100][['Days_spend_hsptl','Tot_charg','Tot_cost']].head()"
   ]
  },
  {
   "cell_type": "code",
   "execution_count": null,
   "id": "6bd87fb4",
   "metadata": {},
   "outputs": [],
   "source": [
    "df_copy[df_copy['Days_spend_hsptl']>=6].sum()"
   ]
  },
  {
   "cell_type": "code",
   "execution_count": null,
   "id": "29270c81",
   "metadata": {},
   "outputs": [],
   "source": []
  },
  {
   "cell_type": "code",
   "execution_count": 44,
   "id": "8ee87dc4",
   "metadata": {},
   "outputs": [
    {
     "data": {
      "text/plain": [
       "'C:\\\\Users\\\\acesi\\\\OneDrive\\\\Desktop\\\\Aces'"
      ]
     },
     "execution_count": 44,
     "metadata": {},
     "output_type": "execute_result"
    }
   ],
   "source": [
    "import os \n",
    "os.getcwd()"
   ]
  },
  {
   "cell_type": "code",
   "execution_count": 45,
   "id": "75673aad",
   "metadata": {},
   "outputs": [],
   "source": [
    "df_copy.to_csv(\"C:/Users/acesi/Documents/Aces__Project/Insurance_clean_data.csv\",index=False)"
   ]
  },
  {
   "cell_type": "code",
   "execution_count": null,
   "id": "71565a8d",
   "metadata": {},
   "outputs": [],
   "source": []
  }
 ],
 "metadata": {
  "kernelspec": {
   "display_name": "Python 3.11.0 64-bit",
   "language": "python",
   "name": "python3"
  },
  "language_info": {
   "codemirror_mode": {
    "name": "ipython",
    "version": 3
   },
   "file_extension": ".py",
   "mimetype": "text/x-python",
   "name": "python",
   "nbconvert_exporter": "python",
   "pygments_lexer": "ipython3",
   "version": "3.11.0"
  },
  "vscode": {
   "interpreter": {
    "hash": "83513cdaf27cc30f1003237ed2577633578645462921d1290e0627d803fbb066"
   }
  }
 },
 "nbformat": 4,
 "nbformat_minor": 5
}
